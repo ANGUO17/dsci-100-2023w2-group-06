{
 "cells": [
  {
   "cell_type": "markdown",
   "id": "a56eccab-6d45-4afa-8da6-0146b53b49ff",
   "metadata": {},
   "source": [
    "# Use age and sex to determine the presence of heart disease in patients of Hungary."
   ]
  },
  {
   "cell_type": "markdown",
   "id": "eccac296-2b81-425b-acb9-537dd96d75c2",
   "metadata": {},
   "source": [
    "### Introduction\n",
    "\n",
    "\n",
    "\r\n",
    "Provide some relevant background information on the topic so that someone unfamiliar with it will be prepared to understand the rest of your proposal\r\n",
    "Clearly state the question you will try to answer with your project\r\n",
    "Identify and describe the dataset that will be used to answer the ques\n",
    "\n",
    "tion\r\n",
    "Preliminary exploratory data analysis:\r\n",
    "Demonstrate that the dataset can be read from the web into R \r\n",
    "Clean and wrangle your data into a tidy format\r\n",
    "Using only training data, summarize the data in at least one table (this is exploratory data analysis). An example of a useful table could be one that reports the number of observations in each class, the means of the predictor variables you plan to use in your analysis and how many rows have missing data. \r\n",
    "Using only training data, visualize the data with at least one plot relevant to the analysis you plan to do (this is exploratory data analysis). An example of a useful visualization could be one that compares the distributions of each of the predictor variables you plan to use in your \n",
    "\n",
    "\n",
    "analysis.\r\n",
    "Methods:\r\n",
    "Explain how you will conduct either your data analysis and which variables/columns you will use. Note - you do not need to use all variables/columns that exist in the raw data set. In fact, that's often not a good idea. For each variable think: is this a useful variable for prediction?\r\n",
    "Describe at least one way that you will visualize\n",
    "\n",
    " the results\r\n",
    "Expected outcomes and significance:\r\n",
    "What do you expect to find?\r\n",
    "What impact could such findings have?\r\n",
    "What future questions could this lead to?"
   ]
  },
  {
   "cell_type": "markdown",
   "id": "88bba867-4db0-4429-aaf0-73e9576e8bd5",
   "metadata": {},
   "source": [
    "### Introduction: \n",
    "\n",
    "Heart disease refers to a range of conditions that affect the heart and the term is often used interchangeably with \"cardiovascular disease,\" which generally refers to conditions that involve narrowed or blocked blood vessels that can lead to a heart attack. Heart disease is also a leading cause of death globally, one in five deaths in the U.S. is caused by heart disease and heart disease cost the U.S. 239.9 billion dollars each year. There are many risk factors that directly associates with the presence of heart diease in patients, such as age and sex. With that said, the goal for us today is to classify patients with or without heart disease by distinguishing the likelihood using the risk factors. The dataset we will be using to perform this process on will be the 1988 Hungary Heart Disease database. "
   ]
  },
  {
   "cell_type": "code",
   "execution_count": 36,
   "id": "9e3797d8-a939-4762-b550-be9d8de20844",
   "metadata": {},
   "outputs": [],
   "source": [
    "library(tidyverse)\n",
    "library(repr)\n",
    "library(tidymodels)\n",
    "options(repr.matrix.max.rows = 6)"
   ]
  },
  {
   "cell_type": "code",
   "execution_count": 71,
   "id": "f870f96d-3279-476c-87e3-90430b9c523d",
   "metadata": {},
   "outputs": [
    {
     "ename": "ERROR",
     "evalue": "Error in parse(text = x, srcfile = src): <text>:5:27: unexpected symbol\n4: \n5: data <- read.table(url)   col_names\n                             ^\n",
     "output_type": "error",
     "traceback": [
      "Error in parse(text = x, srcfile = src): <text>:5:27: unexpected symbol\n4: \n5: data <- read.table(url)   col_names\n                             ^\nTraceback:\n"
     ]
    }
   ],
   "source": [
    "# cleaveland_data <- read_tsv(\"data/cleve.mod\", skip = 20)\n",
    "\n",
    "url <- \"https://raw.githubusercontent.com/ANGUO17/dsci-100-2023w2-group-06/main/heart%2Bdisease/reprocessed.hungarian.data\"\n",
    "\n",
    "data <- read.table(url)   \n",
    "\n",
    "#Age; sex; chest pain type (angina, abnang, notang, asympt)\n",
    "#%  Trestbps (resting blood pres); cholesteral; fasting blood sugar < 120\n",
    "#%  (true or false); resting ecg (norm, abn, hyper); max heart rate; \n",
    "#%  exercise induced angina (true or false); oldpeak; slope (up, flat, down)\n",
    "#%  number of vessels colored (???); thal (norm, fixed, rever). Finally, the\n",
    "#%  class is either healthy (buff) or with heart-disease (sick).\n",
    "    \n",
    "head(data)\n",
    "\n",
    "\n"
   ]
  },
  {
   "cell_type": "code",
   "execution_count": null,
   "id": "234d3c16-8ce4-481e-a7d0-139fabcdcfcf",
   "metadata": {},
   "outputs": [],
   "source": []
  }
 ],
 "metadata": {
  "kernelspec": {
   "display_name": "R",
   "language": "R",
   "name": "ir"
  },
  "language_info": {
   "codemirror_mode": "r",
   "file_extension": ".r",
   "mimetype": "text/x-r-source",
   "name": "R",
   "pygments_lexer": "r",
   "version": "4.3.1"
  }
 },
 "nbformat": 4,
 "nbformat_minor": 5
}
