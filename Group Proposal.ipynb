{
 "cells": [
  {
   "cell_type": "markdown",
   "id": "a56eccab-6d45-4afa-8da6-0146b53b49ff",
   "metadata": {},
   "source": [
    "# Use age and sex to determine the presence of heart disease in patients of Hungary."
   ]
  },
  {
   "cell_type": "markdown",
   "id": "88bba867-4db0-4429-aaf0-73e9576e8bd5",
   "metadata": {},
   "source": [
    "## Introduction: \n",
    "\n",
    "Introduction: \n",
    "\n",
    "Heart disease refers to a range of conditions that affect the heart and the term is often used interchangeably with \"cardiovascular disease,\" which generally refers to conditions that involve narrowed or blocked blood vessels that can lead to a heart attack. Heart disease is also a leading cause of death globally, one in five deaths in the U.S. is caused by heart disease and heart disease costs the U.S. 239.9 billion dollars each year. There are many risk factors that are directly associated with the presence of heart disease in patients, such as age and sex. In both sexes, the risk of heart disease increases with age, but the increase is sharper in women. This increase with age is primarily due to the gradual buildup of plaque in the arteries. Additionally, sex plays a role, as men tend to have a higher risk of heart disease at a younger age compared to women. With that said, the goal for us today is to classify patients with or without heart disease by distinguishing the likelihood using the age and sex factors. \n",
    "\n",
    "Question: Which demographic group is mostly likely to have heart disease based on the age and sex factors?\n",
    "\n",
    "The dataset we will be using to perform this process on will be the Hungary Heart Disease database (“reprocessed.hungarian.data”); a data set intended to determine the presence of heart disease in patients of Hungary. It contains data of 14 variables, including age, sex, cholesteral and so on. \n"
   ]
  },
  {
   "cell_type": "markdown",
   "id": "ff5a3bf9-7833-41c6-9b84-21ca18dcba5b",
   "metadata": {},
   "source": [
    "## Preliminary exploratory data analysis"
   ]
  },
  {
   "cell_type": "code",
   "execution_count": 3,
   "id": "9e3797d8-a939-4762-b550-be9d8de20844",
   "metadata": {},
   "outputs": [
    {
     "name": "stderr",
     "output_type": "stream",
     "text": [
      "── \u001b[1mAttaching core tidyverse packages\u001b[22m ──────────────────────── tidyverse 2.0.0 ──\n",
      "\u001b[32m✔\u001b[39m \u001b[34mdplyr    \u001b[39m 1.1.3     \u001b[32m✔\u001b[39m \u001b[34mreadr    \u001b[39m 2.1.4\n",
      "\u001b[32m✔\u001b[39m \u001b[34mforcats  \u001b[39m 1.0.0     \u001b[32m✔\u001b[39m \u001b[34mstringr  \u001b[39m 1.5.0\n",
      "\u001b[32m✔\u001b[39m \u001b[34mggplot2  \u001b[39m 3.4.4     \u001b[32m✔\u001b[39m \u001b[34mtibble   \u001b[39m 3.2.1\n",
      "\u001b[32m✔\u001b[39m \u001b[34mlubridate\u001b[39m 1.9.3     \u001b[32m✔\u001b[39m \u001b[34mtidyr    \u001b[39m 1.3.0\n",
      "\u001b[32m✔\u001b[39m \u001b[34mpurrr    \u001b[39m 1.0.2     \n",
      "── \u001b[1mConflicts\u001b[22m ────────────────────────────────────────── tidyverse_conflicts() ──\n",
      "\u001b[31m✖\u001b[39m \u001b[34mdplyr\u001b[39m::\u001b[32mfilter()\u001b[39m masks \u001b[34mstats\u001b[39m::filter()\n",
      "\u001b[31m✖\u001b[39m \u001b[34mdplyr\u001b[39m::\u001b[32mlag()\u001b[39m    masks \u001b[34mstats\u001b[39m::lag()\n",
      "\u001b[36mℹ\u001b[39m Use the conflicted package (\u001b[3m\u001b[34m<http://conflicted.r-lib.org/>\u001b[39m\u001b[23m) to force all conflicts to become errors\n",
      "── \u001b[1mAttaching packages\u001b[22m ────────────────────────────────────── tidymodels 1.1.1 ──\n",
      "\n",
      "\u001b[32m✔\u001b[39m \u001b[34mbroom       \u001b[39m 1.0.5     \u001b[32m✔\u001b[39m \u001b[34mrsample     \u001b[39m 1.2.0\n",
      "\u001b[32m✔\u001b[39m \u001b[34mdials       \u001b[39m 1.2.0     \u001b[32m✔\u001b[39m \u001b[34mtune        \u001b[39m 1.1.2\n",
      "\u001b[32m✔\u001b[39m \u001b[34minfer       \u001b[39m 1.0.5     \u001b[32m✔\u001b[39m \u001b[34mworkflows   \u001b[39m 1.1.3\n",
      "\u001b[32m✔\u001b[39m \u001b[34mmodeldata   \u001b[39m 1.2.0     \u001b[32m✔\u001b[39m \u001b[34mworkflowsets\u001b[39m 1.0.1\n",
      "\u001b[32m✔\u001b[39m \u001b[34mparsnip     \u001b[39m 1.1.1     \u001b[32m✔\u001b[39m \u001b[34myardstick   \u001b[39m 1.2.0\n",
      "\u001b[32m✔\u001b[39m \u001b[34mrecipes     \u001b[39m 1.0.8     \n",
      "\n",
      "── \u001b[1mConflicts\u001b[22m ───────────────────────────────────────── tidymodels_conflicts() ──\n",
      "\u001b[31m✖\u001b[39m \u001b[34mscales\u001b[39m::\u001b[32mdiscard()\u001b[39m masks \u001b[34mpurrr\u001b[39m::discard()\n",
      "\u001b[31m✖\u001b[39m \u001b[34mdplyr\u001b[39m::\u001b[32mfilter()\u001b[39m   masks \u001b[34mstats\u001b[39m::filter()\n",
      "\u001b[31m✖\u001b[39m \u001b[34mrecipes\u001b[39m::\u001b[32mfixed()\u001b[39m  masks \u001b[34mstringr\u001b[39m::fixed()\n",
      "\u001b[31m✖\u001b[39m \u001b[34mdplyr\u001b[39m::\u001b[32mlag()\u001b[39m      masks \u001b[34mstats\u001b[39m::lag()\n",
      "\u001b[31m✖\u001b[39m \u001b[34myardstick\u001b[39m::\u001b[32mspec()\u001b[39m masks \u001b[34mreadr\u001b[39m::spec()\n",
      "\u001b[31m✖\u001b[39m \u001b[34mrecipes\u001b[39m::\u001b[32mstep()\u001b[39m   masks \u001b[34mstats\u001b[39m::step()\n",
      "\u001b[34m•\u001b[39m Dig deeper into tidy modeling with R at \u001b[32mhttps://www.tmwr.org\u001b[39m\n",
      "\n"
     ]
    }
   ],
   "source": [
    "## Run this cell before continuing \n",
    "library(tidyverse)\n",
    "library(repr)\n",
    "library(tidymodels)\n",
    "library(RColorBrewer)\n",
    "options(repr.matrix.max.rows = 6)"
   ]
  },
  {
   "cell_type": "markdown",
   "id": "71940bce-2f16-4405-a03e-90f09af73ecf",
   "metadata": {},
   "source": [
    "### Importing the Data Set"
   ]
  },
  {
   "cell_type": "code",
   "execution_count": 113,
   "id": "f870f96d-3279-476c-87e3-90430b9c523d",
   "metadata": {},
   "outputs": [
    {
     "ename": "ERROR",
     "evalue": "\u001b[1m\u001b[33mError\u001b[39m in `mutate()`:\u001b[22m\n\u001b[1m\u001b[22m\u001b[36mℹ\u001b[39m In argument: `across(where(is.integer), ~na_if(chol, \"-9\"))`.\n\u001b[1mCaused by error in `across()`:\u001b[22m\n\u001b[1m\u001b[22m\u001b[33m!\u001b[39m Can't compute column `V1`.\n\u001b[1mCaused by error in `na_if()`:\u001b[22m\n\u001b[33m!\u001b[39m `x` must be a vector, not a function.\n",
     "output_type": "error",
     "traceback": [
      "\u001b[1m\u001b[33mError\u001b[39m in `mutate()`:\u001b[22m\n\u001b[1m\u001b[22m\u001b[36mℹ\u001b[39m In argument: `across(where(is.integer), ~na_if(chol, \"-9\"))`.\n\u001b[1mCaused by error in `across()`:\u001b[22m\n\u001b[1m\u001b[22m\u001b[33m!\u001b[39m Can't compute column `V1`.\n\u001b[1mCaused by error in `na_if()`:\u001b[22m\n\u001b[33m!\u001b[39m `x` must be a vector, not a function.\nTraceback:\n",
      "1. mutate(read.table(url), across(where(is.integer), ~na_if(chol, \n .     \"-9\")))",
      "2. mutate.data.frame(read.table(url), across(where(is.integer), \n .     ~na_if(chol, \"-9\")))",
      "3. mutate_cols(.data, dplyr_quosures(...), by)",
      "4. withCallingHandlers(for (i in seq_along(dots)) {\n .     poke_error_context(dots, i, mask = mask)\n .     context_poke(\"column\", old_current_column)\n .     new_columns <- mutate_col(dots[[i]], data, mask, new_columns)\n . }, error = dplyr_error_handler(dots = dots, mask = mask, bullets = mutate_bullets, \n .     error_call = error_call, error_class = \"dplyr:::mutate_error\"), \n .     warning = dplyr_warning_handler(state = warnings_state, mask = mask, \n .         error_call = error_call))",
      "5. mutate_col(dots[[i]], data, mask, new_columns)",
      "6. withCallingHandlers(mask$eval_all_mutate(quo), error = function(cnd) {\n .     name <- dplyr_quosure_name(quo_data)\n .     msg <- glue(\"Can't compute column `{name}`.\")\n .     abort(msg, call = call(\"across\"), parent = cnd)\n . })",
      "7. mask$eval_all_mutate(quo)",
      "8. eval()",
      "9. na_if(chol, \"-9\")",
      "10. vec_cast(x = y, to = x, x_arg = \"y\", to_arg = \"x\")",
      "11. stop_scalar_type(.Primitive(\"quote\")(function (x, ...) \n  . UseMethod(\"chol\")), \"x\", <environment>)",
      "12. stop_vctrs(msg, \"vctrs_error_scalar_type\", actual = x, call = call)",
      "13. abort(message, class = c(class, \"vctrs_error\"), ..., call = call)",
      "14. signal_abort(cnd, .file)",
      "15. signalCondition(cnd)",
      "16. (function (cnd) \n  . {\n  .     name <- dplyr_quosure_name(quo_data)\n  .     msg <- glue(\"Can't compute column `{name}`.\")\n  .     abort(msg, call = call(\"across\"), parent = cnd)\n  . })(structure(list(message = structure(\"`x` must be a vector, not a function.\", class = c(\"glue\", \n  . \"character\")), trace = structure(list(call = list(IRkernel::main(), \n  .     kernel$run(), handle_shell(), executor$execute(msg), tryCatch(evaluate(request$content$code, \n  .         envir = .GlobalEnv, output_handler = oh, stop_on_error = 1L), \n  .         interrupt = function(cond) {\n  .             log_debug(\"Interrupt during execution\")\n  .             interrupted <<- TRUE\n  .         }, error = .self$handle_error), tryCatchList(expr, classes, \n  .         parentenv, handlers), tryCatchOne(tryCatchList(expr, \n  .         names[-nh], parentenv, handlers[-nh]), names[nh], parentenv, \n  .         handlers[[nh]]), doTryCatch(return(expr), name, parentenv, \n  .         handler), tryCatchList(expr, names[-nh], parentenv, handlers[-nh]), \n  .     tryCatchOne(expr, names, parentenv, handlers[[1L]]), doTryCatch(return(expr), \n  .         name, parentenv, handler), evaluate(request$content$code, \n  .         envir = .GlobalEnv, output_handler = oh, stop_on_error = 1L), \n  .     evaluate_call(expr, parsed$src[[i]], envir = envir, enclos = enclos, \n  .         debug = debug, last = i == length(out), use_try = stop_on_error != \n  .             2L, keep_warning = keep_warning, keep_message = keep_message, \n  .         log_echo = log_echo, log_warning = log_warning, output_handler = output_handler, \n  .         include_timing = include_timing), timing_fn(handle(ev <- withCallingHandlers(withVisible(eval_with_user_handlers(expr, \n  .         envir, enclos, user_handlers)), warning = wHandler, error = eHandler, \n  .         message = mHandler))), handle(ev <- withCallingHandlers(withVisible(eval_with_user_handlers(expr, \n  .         envir, enclos, user_handlers)), warning = wHandler, error = eHandler, \n  .         message = mHandler)), try(f, silent = TRUE), tryCatch(expr, \n  .         error = function(e) {\n  .             call <- conditionCall(e)\n  .             if (!is.null(call)) {\n  .                 if (identical(call[[1L]], quote(doTryCatch))) \n  .                   call <- sys.call(-4L)\n  .                 dcall <- deparse(call, nlines = 1L)\n  .                 prefix <- paste(\"Error in\", dcall, \": \")\n  .                 LONG <- 75L\n  .                 sm <- strsplit(conditionMessage(e), \"\\n\")[[1L]]\n  .                 w <- 14L + nchar(dcall, type = \"w\") + nchar(sm[1L], \n  .                   type = \"w\")\n  .                 if (is.na(w)) \n  .                   w <- 14L + nchar(dcall, type = \"b\") + nchar(sm[1L], \n  .                     type = \"b\")\n  .                 if (w > LONG) \n  .                   prefix <- paste0(prefix, \"\\n  \")\n  .             }\n  .             else prefix <- \"Error : \"\n  .             msg <- paste0(prefix, conditionMessage(e), \"\\n\")\n  .             .Internal(seterrmessage(msg[1L]))\n  .             if (!silent && isTRUE(getOption(\"show.error.messages\"))) {\n  .                 cat(msg, file = outFile)\n  .                 .Internal(printDeferredWarnings())\n  .             }\n  .             invisible(structure(msg, class = \"try-error\", condition = e))\n  .         }), tryCatchList(expr, classes, parentenv, handlers), \n  .     tryCatchOne(expr, names, parentenv, handlers[[1L]]), doTryCatch(return(expr), \n  .         name, parentenv, handler), withCallingHandlers(withVisible(eval_with_user_handlers(expr, \n  .         envir, enclos, user_handlers)), warning = wHandler, error = eHandler, \n  .         message = mHandler), withVisible(eval_with_user_handlers(expr, \n  .         envir, enclos, user_handlers)), eval_with_user_handlers(expr, \n  .         envir, enclos, user_handlers), eval(expr, envir, enclos), \n  .     eval(expr, envir, enclos), mutate(read.table(url), across(where(is.integer), \n  .         ~na_if(chol, \"-9\"))), mutate.data.frame(read.table(url), \n  .         across(where(is.integer), ~na_if(chol, \"-9\"))), mutate_cols(.data, \n  .         dplyr_quosures(...), by), withCallingHandlers(for (i in seq_along(dots)) {\n  .         poke_error_context(dots, i, mask = mask)\n  .         context_poke(\"column\", old_current_column)\n  .         new_columns <- mutate_col(dots[[i]], data, mask, new_columns)\n  .     }, error = dplyr_error_handler(dots = dots, mask = mask, \n  .         bullets = mutate_bullets, error_call = error_call, error_class = \"dplyr:::mutate_error\"), \n  .         warning = dplyr_warning_handler(state = warnings_state, \n  .             mask = mask, error_call = error_call)), mutate_col(dots[[i]], \n  .         data, mask, new_columns), withCallingHandlers(mask$eval_all_mutate(quo), \n  .         error = function(cnd) {\n  .             name <- dplyr_quosure_name(quo_data)\n  .             msg <- glue(\"Can't compute column `{name}`.\")\n  .             abort(msg, call = call(\"across\"), parent = cnd)\n  .         }), mask$eval_all_mutate(quo), eval(), na_if(chol, \"-9\"), \n  .     vec_cast(x = y, to = x, x_arg = \"y\", to_arg = \"x\"), stop_scalar_type(`<fn>`(`<fn>`), \n  .         \"x\", `<env>`), stop_vctrs(msg, \"vctrs_error_scalar_type\", \n  .         actual = x, call = call), abort(message, class = c(class, \n  .         \"vctrs_error\"), ..., call = call)), parent = c(0L, 1L, \n  . 2L, 3L, 4L, 5L, 6L, 7L, 6L, 9L, 10L, 4L, 12L, 13L, 13L, 15L, \n  . 16L, 17L, 18L, 19L, 13L, 13L, 13L, 23L, 24L, 0L, 0L, 27L, 28L, \n  . 28L, 30L, 30L, 32L, 0L, 34L, 0L, 36L, 37L), visible = c(TRUE, \n  . TRUE, TRUE, TRUE, TRUE, TRUE, TRUE, TRUE, TRUE, TRUE, TRUE, TRUE, \n  . TRUE, TRUE, TRUE, TRUE, TRUE, TRUE, TRUE, TRUE, TRUE, TRUE, TRUE, \n  . TRUE, TRUE, TRUE, TRUE, TRUE, TRUE, TRUE, TRUE, TRUE, TRUE, TRUE, \n  . FALSE, FALSE, FALSE, FALSE), namespace = c(\"IRkernel\", NA, \"IRkernel\", \n  . NA, \"base\", \"base\", \"base\", \"base\", \"base\", \"base\", \"base\", \"evaluate\", \n  . \"evaluate\", \"evaluate\", \"evaluate\", \"base\", \"base\", \"base\", \"base\", \n  . \"base\", \"base\", \"base\", \"evaluate\", \"base\", \"base\", \"dplyr\", \n  . \"dplyr\", \"dplyr\", \"base\", \"dplyr\", \"base\", NA, \"dplyr\", \"dplyr\", \n  . \"vctrs\", \"vctrs\", \"vctrs\", \"rlang\"), scope = c(\"::\", NA, \"local\", \n  . NA, \"::\", \"local\", \"local\", \"local\", \"local\", \"local\", \"local\", \n  . \"::\", \":::\", \"local\", \"local\", \"::\", \"::\", \"local\", \"local\", \n  . \"local\", \"::\", \"::\", \":::\", \"::\", \"::\", \"::\", \":::\", \":::\", \"::\", \n  . \":::\", \"::\", NA, \"local\", \"::\", \"::\", \":::\", \":::\", \"::\"), error_frame = c(FALSE, \n  . FALSE, FALSE, FALSE, FALSE, FALSE, FALSE, FALSE, FALSE, FALSE, \n  . FALSE, FALSE, FALSE, FALSE, FALSE, FALSE, FALSE, FALSE, FALSE, \n  . FALSE, FALSE, FALSE, FALSE, FALSE, FALSE, FALSE, FALSE, FALSE, \n  . FALSE, FALSE, FALSE, FALSE, FALSE, TRUE, FALSE, FALSE, FALSE, \n  . FALSE)), row.names = c(NA, -38L), version = 2L, class = c(\"rlang_trace\", \n  . \"rlib_trace\", \"tbl\", \"data.frame\")), parent = NULL, actual = function (x, \n  .     ...) \n  . UseMethod(\"chol\"), rlang = list(inherit = TRUE), call = na_if(chol, \n  .     \"-9\")), class = c(\"vctrs_error_scalar_type\", \"vctrs_error\", \n  . \"rlang_error\", \"error\", \"condition\")))",
      "17. abort(msg, call = call(\"across\"), parent = cnd)",
      "18. signal_abort(cnd, .file)",
      "19. signalCondition(cnd)",
      "20. (function (cnd) \n  . {\n  .     local_error_context(dots, i = frame[[i_sym]], mask = mask)\n  .     if (inherits(cnd, \"dplyr:::internal_error\")) {\n  .         parent <- error_cnd(message = bullets(cnd))\n  .     }\n  .     else {\n  .         parent <- cnd\n  .     }\n  .     message <- c(cnd_bullet_header(action), i = if (has_active_group_context(mask)) cnd_bullet_cur_group_label())\n  .     abort(message, class = error_class, parent = parent, call = error_call)\n  . })(structure(list(message = structure(\"Can't compute column `V1`.\", class = c(\"glue\", \n  . \"character\")), parent = structure(list(message = structure(\"`x` must be a vector, not a function.\", class = c(\"glue\", \n  . \"character\")), trace = structure(list(call = list(IRkernel::main(), \n  .     kernel$run(), handle_shell(), executor$execute(msg), tryCatch(evaluate(request$content$code, \n  .         envir = .GlobalEnv, output_handler = oh, stop_on_error = 1L), \n  .         interrupt = function(cond) {\n  .             log_debug(\"Interrupt during execution\")\n  .             interrupted <<- TRUE\n  .         }, error = .self$handle_error), tryCatchList(expr, classes, \n  .         parentenv, handlers), tryCatchOne(tryCatchList(expr, \n  .         names[-nh], parentenv, handlers[-nh]), names[nh], parentenv, \n  .         handlers[[nh]]), doTryCatch(return(expr), name, parentenv, \n  .         handler), tryCatchList(expr, names[-nh], parentenv, handlers[-nh]), \n  .     tryCatchOne(expr, names, parentenv, handlers[[1L]]), doTryCatch(return(expr), \n  .         name, parentenv, handler), evaluate(request$content$code, \n  .         envir = .GlobalEnv, output_handler = oh, stop_on_error = 1L), \n  .     evaluate_call(expr, parsed$src[[i]], envir = envir, enclos = enclos, \n  .         debug = debug, last = i == length(out), use_try = stop_on_error != \n  .             2L, keep_warning = keep_warning, keep_message = keep_message, \n  .         log_echo = log_echo, log_warning = log_warning, output_handler = output_handler, \n  .         include_timing = include_timing), timing_fn(handle(ev <- withCallingHandlers(withVisible(eval_with_user_handlers(expr, \n  .         envir, enclos, user_handlers)), warning = wHandler, error = eHandler, \n  .         message = mHandler))), handle(ev <- withCallingHandlers(withVisible(eval_with_user_handlers(expr, \n  .         envir, enclos, user_handlers)), warning = wHandler, error = eHandler, \n  .         message = mHandler)), try(f, silent = TRUE), tryCatch(expr, \n  .         error = function(e) {\n  .             call <- conditionCall(e)\n  .             if (!is.null(call)) {\n  .                 if (identical(call[[1L]], quote(doTryCatch))) \n  .                   call <- sys.call(-4L)\n  .                 dcall <- deparse(call, nlines = 1L)\n  .                 prefix <- paste(\"Error in\", dcall, \": \")\n  .                 LONG <- 75L\n  .                 sm <- strsplit(conditionMessage(e), \"\\n\")[[1L]]\n  .                 w <- 14L + nchar(dcall, type = \"w\") + nchar(sm[1L], \n  .                   type = \"w\")\n  .                 if (is.na(w)) \n  .                   w <- 14L + nchar(dcall, type = \"b\") + nchar(sm[1L], \n  .                     type = \"b\")\n  .                 if (w > LONG) \n  .                   prefix <- paste0(prefix, \"\\n  \")\n  .             }\n  .             else prefix <- \"Error : \"\n  .             msg <- paste0(prefix, conditionMessage(e), \"\\n\")\n  .             .Internal(seterrmessage(msg[1L]))\n  .             if (!silent && isTRUE(getOption(\"show.error.messages\"))) {\n  .                 cat(msg, file = outFile)\n  .                 .Internal(printDeferredWarnings())\n  .             }\n  .             invisible(structure(msg, class = \"try-error\", condition = e))\n  .         }), tryCatchList(expr, classes, parentenv, handlers), \n  .     tryCatchOne(expr, names, parentenv, handlers[[1L]]), doTryCatch(return(expr), \n  .         name, parentenv, handler), withCallingHandlers(withVisible(eval_with_user_handlers(expr, \n  .         envir, enclos, user_handlers)), warning = wHandler, error = eHandler, \n  .         message = mHandler), withVisible(eval_with_user_handlers(expr, \n  .         envir, enclos, user_handlers)), eval_with_user_handlers(expr, \n  .         envir, enclos, user_handlers), eval(expr, envir, enclos), \n  .     eval(expr, envir, enclos), mutate(read.table(url), across(where(is.integer), \n  .         ~na_if(chol, \"-9\"))), mutate.data.frame(read.table(url), \n  .         across(where(is.integer), ~na_if(chol, \"-9\"))), mutate_cols(.data, \n  .         dplyr_quosures(...), by), withCallingHandlers(for (i in seq_along(dots)) {\n  .         poke_error_context(dots, i, mask = mask)\n  .         context_poke(\"column\", old_current_column)\n  .         new_columns <- mutate_col(dots[[i]], data, mask, new_columns)\n  .     }, error = dplyr_error_handler(dots = dots, mask = mask, \n  .         bullets = mutate_bullets, error_call = error_call, error_class = \"dplyr:::mutate_error\"), \n  .         warning = dplyr_warning_handler(state = warnings_state, \n  .             mask = mask, error_call = error_call)), mutate_col(dots[[i]], \n  .         data, mask, new_columns), withCallingHandlers(mask$eval_all_mutate(quo), \n  .         error = function(cnd) {\n  .             name <- dplyr_quosure_name(quo_data)\n  .             msg <- glue(\"Can't compute column `{name}`.\")\n  .             abort(msg, call = call(\"across\"), parent = cnd)\n  .         }), mask$eval_all_mutate(quo), eval(), na_if(chol, \"-9\"), \n  .     vec_cast(x = y, to = x, x_arg = \"y\", to_arg = \"x\"), stop_scalar_type(`<fn>`(`<fn>`), \n  .         \"x\", `<env>`), stop_vctrs(msg, \"vctrs_error_scalar_type\", \n  .         actual = x, call = call), abort(message, class = c(class, \n  .         \"vctrs_error\"), ..., call = call)), parent = c(0L, 1L, \n  . 2L, 3L, 4L, 5L, 6L, 7L, 6L, 9L, 10L, 4L, 12L, 13L, 13L, 15L, \n  . 16L, 17L, 18L, 19L, 13L, 13L, 13L, 23L, 24L, 0L, 0L, 27L, 28L, \n  . 28L, 30L, 30L, 32L, 0L, 34L, 0L, 36L, 37L), visible = c(TRUE, \n  . TRUE, TRUE, TRUE, TRUE, TRUE, TRUE, TRUE, TRUE, TRUE, TRUE, TRUE, \n  . TRUE, TRUE, TRUE, TRUE, TRUE, TRUE, TRUE, TRUE, TRUE, TRUE, TRUE, \n  . TRUE, TRUE, TRUE, TRUE, TRUE, TRUE, TRUE, TRUE, TRUE, TRUE, TRUE, \n  . FALSE, FALSE, FALSE, FALSE), namespace = c(\"IRkernel\", NA, \"IRkernel\", \n  . NA, \"base\", \"base\", \"base\", \"base\", \"base\", \"base\", \"base\", \"evaluate\", \n  . \"evaluate\", \"evaluate\", \"evaluate\", \"base\", \"base\", \"base\", \"base\", \n  . \"base\", \"base\", \"base\", \"evaluate\", \"base\", \"base\", \"dplyr\", \n  . \"dplyr\", \"dplyr\", \"base\", \"dplyr\", \"base\", NA, \"dplyr\", \"dplyr\", \n  . \"vctrs\", \"vctrs\", \"vctrs\", \"rlang\"), scope = c(\"::\", NA, \"local\", \n  . NA, \"::\", \"local\", \"local\", \"local\", \"local\", \"local\", \"local\", \n  . \"::\", \":::\", \"local\", \"local\", \"::\", \"::\", \"local\", \"local\", \n  . \"local\", \"::\", \"::\", \":::\", \"::\", \"::\", \"::\", \":::\", \":::\", \"::\", \n  . \":::\", \"::\", NA, \"local\", \"::\", \"::\", \":::\", \":::\", \"::\"), error_frame = c(FALSE, \n  . FALSE, FALSE, FALSE, FALSE, FALSE, FALSE, FALSE, FALSE, FALSE, \n  . FALSE, FALSE, FALSE, FALSE, FALSE, FALSE, FALSE, FALSE, FALSE, \n  . FALSE, FALSE, FALSE, FALSE, FALSE, FALSE, FALSE, FALSE, FALSE, \n  . FALSE, FALSE, FALSE, FALSE, FALSE, TRUE, FALSE, FALSE, FALSE, \n  . FALSE)), row.names = c(NA, -38L), version = 2L, class = c(\"rlang_trace\", \n  . \"rlib_trace\", \"tbl\", \"data.frame\")), parent = NULL, actual = function (x, \n  .     ...) \n  . UseMethod(\"chol\"), rlang = list(inherit = TRUE), call = na_if(chol, \n  .     \"-9\")), class = c(\"vctrs_error_scalar_type\", \"vctrs_error\", \n  . \"rlang_error\", \"error\", \"condition\")), rlang = list(inherit = TRUE), \n  .     call = across(), use_cli_format = TRUE), class = c(\"rlang_error\", \n  . \"error\", \"condition\")))",
      "21. abort(message, class = error_class, parent = parent, call = error_call)",
      "22. signal_abort(cnd, .file)"
     ]
    }
   ],
   "source": [
    "# reading the data from the URl and assigning column names\n",
    "\n",
    "url <- \"https://raw.githubusercontent.com/ANGUO17/dsci-100-2023w2-group-06/main/heart%2Bdisease/reprocessed.hungarian.data\"\n",
    "\n",
    "data <- read.table(url) \n",
    "           \n",
    "colnames(data) <- c(\"age\", \"sex\", \"cp\", \"trestbps\", \"chol\" , \"fbs\", \n",
    "                    \"restecg\", \"thalach\", \"exang\", \"oldpeak\", \"slope\", \"ca\",\n",
    "                    \"thal\", \"num\")\n",
    "\n",
    "\n",
    "\n",
    "#Age; sex; chest pain type (angina, abnang, notang, asympt)\n",
    "#%  Trestbps (resting blood pres); cholesteral; fasting blood sugar < 120\n",
    "#%  (true or false); resting ecg (norm, abn, hyper); max heart rate; \n",
    "#%  exercise induced angina (true or false); oldpeak; slope (up, flat, down)\n",
    "#%  number of vessels colored (???); thal (norm, fixed, rever). Finally, the\n",
    "#%  class is either healthy (buff) or with heart-disease (sick).\n",
    "    \n",
    "head(data)\n",
    "\n",
    "\n"
   ]
  },
  {
   "cell_type": "code",
   "execution_count": 91,
   "id": "234d3c16-8ce4-481e-a7d0-139fabcdcfcf",
   "metadata": {},
   "outputs": [
    {
     "data": {
      "text/html": [
       "<table class=\"dataframe\">\n",
       "<caption>A data.frame: 6 × 4</caption>\n",
       "<thead>\n",
       "\t<tr><th></th><th scope=col>age</th><th scope=col>sex</th><th scope=col>chol</th><th scope=col>diagnosis</th></tr>\n",
       "\t<tr><th></th><th scope=col>&lt;dbl&gt;</th><th scope=col>&lt;fct&gt;</th><th scope=col>&lt;dbl&gt;</th><th scope=col>&lt;fct&gt;</th></tr>\n",
       "</thead>\n",
       "<tbody>\n",
       "\t<tr><th scope=row>1</th><td>40</td><td>male  </td><td>289</td><td>Healthy</td></tr>\n",
       "\t<tr><th scope=row>2</th><td>49</td><td>female</td><td>180</td><td>Sick   </td></tr>\n",
       "\t<tr><th scope=row>3</th><td>37</td><td>male  </td><td>283</td><td>Healthy</td></tr>\n",
       "\t<tr><th scope=row>4</th><td>48</td><td>female</td><td>214</td><td>Sick   </td></tr>\n",
       "\t<tr><th scope=row>5</th><td>54</td><td>male  </td><td> -9</td><td>Healthy</td></tr>\n",
       "\t<tr><th scope=row>6</th><td>39</td><td>male  </td><td>339</td><td>Healthy</td></tr>\n",
       "</tbody>\n",
       "</table>\n"
      ],
      "text/latex": [
       "A data.frame: 6 × 4\n",
       "\\begin{tabular}{r|llll}\n",
       "  & age & sex & chol & diagnosis\\\\\n",
       "  & <dbl> & <fct> & <dbl> & <fct>\\\\\n",
       "\\hline\n",
       "\t1 & 40 & male   & 289 & Healthy\\\\\n",
       "\t2 & 49 & female & 180 & Sick   \\\\\n",
       "\t3 & 37 & male   & 283 & Healthy\\\\\n",
       "\t4 & 48 & female & 214 & Sick   \\\\\n",
       "\t5 & 54 & male   &  -9 & Healthy\\\\\n",
       "\t6 & 39 & male   & 339 & Healthy\\\\\n",
       "\\end{tabular}\n"
      ],
      "text/markdown": [
       "\n",
       "A data.frame: 6 × 4\n",
       "\n",
       "| <!--/--> | age &lt;dbl&gt; | sex &lt;fct&gt; | chol &lt;dbl&gt; | diagnosis &lt;fct&gt; |\n",
       "|---|---|---|---|---|\n",
       "| 1 | 40 | male   | 289 | Healthy |\n",
       "| 2 | 49 | female | 180 | Sick    |\n",
       "| 3 | 37 | male   | 283 | Healthy |\n",
       "| 4 | 48 | female | 214 | Sick    |\n",
       "| 5 | 54 | male   |  -9 | Healthy |\n",
       "| 6 | 39 | male   | 339 | Healthy |\n",
       "\n"
      ],
      "text/plain": [
       "  age sex    chol diagnosis\n",
       "1 40  male   289  Healthy  \n",
       "2 49  female 180  Sick     \n",
       "3 37  male   283  Healthy  \n",
       "4 48  female 214  Sick     \n",
       "5 54  male    -9  Healthy  \n",
       "6 39  male   339  Healthy  "
      ]
     },
     "metadata": {},
     "output_type": "display_data"
    }
   ],
   "source": [
    "#3 age: age in years\n",
    "#4 sex: sex (1 = male; 0 = female)\n",
    "#9 cp: chest pain type\n",
    "        #-- Value 1: typical angina\n",
    "       # -- Value 2: atypical angina\n",
    "        #-- Value 3: non-anginal pain\n",
    "       # -- Value 4: asymptomatic\n",
    "#10 trestbps: resting blood pressure (in mm Hg on admission to the hospital)\n",
    "#12 chol: serum cholestoral in mg/dl\n",
    "#16 fbs: (fasting blood sugar > 120 mg/dl)  (1 = true; 0 = false)\n",
    "#19 restecg: resting electrocardiographic results\n",
    "       # -- Value 0: normal\n",
    "       # -- Value 1: having ST-T wave abnormality (T wave inversions and/or ST elevation or depression of > 0.05 mV)\n",
    "       # -- Value 2: showing probable or definite left ventricular hypertrophy by Estes' criteria\n",
    "#32 thalach: maximum heart rate achieved\n",
    "#38 exang: exercise induced angina (1 = yes; 0 = no)\n",
    "#40 oldpeak = ST depression induced by exercise relative to rest\n",
    "#41 slope: the slope of the peak exercise ST segment\n",
    "        #-- Value 1: upsloping\n",
    "        #-- Value 2: flat\n",
    "        #-- Value 3: downsloping\n",
    "#44 ca: number of major vessels (0-3) colored by flourosopy\n",
    "#51 thal: 3 = normal; 6 = fixed defect; 7 = reversable defect\n",
    "#58 num: diagnosis of heart disease (angiographic disease status)\n",
    "       # -- Value 0: < 50% diameter narrowing\n",
    "        #-- Value 1: > 50% diameter narrowing\n",
    "        #(in any major vessel: attributes 59 through 68 are vessels)\n",
    "\n",
    "\n",
    "#Wrangling data\n",
    "data_processed <- data |>\n",
    "    mutate(age = as.numeric(age)) |>\n",
    "    mutate(trestbps = as.numeric(trestbps)) |>\n",
    "    mutate(chol = as.numeric(chol)) |>\n",
    "    mutate(thalach = as.numeric(thalach)) |>\n",
    "    mutate(sex = as_factor(sex)) |>\n",
    "    mutate(sex = fct_recode(sex, \"male\" = \"1\", \"female\" = \"0\")) |>\n",
    "    mutate(cp = as_factor(cp)) |>\n",
    "    mutate(cp = fct_recode(cp, \"typical angina\" = \"1\", \"atypical angina\" = \"2\", \n",
    "                                        \"non-anginal pain\" = \"3\" , \"asymptomatic\" = \"4\" )) |>\n",
    "    mutate(fbs = as_factor(fbs)) |>\n",
    "    mutate(fbs = fct_recode(fbs, \"true\" = \"1\", \"false\" = \"0\" )) |>\n",
    "    mutate(restecg = as_factor(restecg)) |>\n",
    "    mutate(restecg = fct_recode(restecg, \"normal\" = \"0\", \"abnormal\" = \"1\" )) |>\n",
    "    mutate(exang = as_factor(exang)) |>\n",
    "    mutate(exang = fct_recode(exang, \"yes\" = \"1\", \"no\" = \"0\" )) |>\n",
    "    mutate(slope = as_factor(slope)) |>\n",
    "    mutate(slope = fct_recode(slope, \"upsloping\" = \"1\", \"flat\" = \"2\", \"downsloping\" = \"3\")) |>\n",
    "    mutate(thal = as_factor(thal)) |>\n",
    "    mutate(thal = fct_recode(thal, \"normal\" = \"3\", \"fixed defect\" = \"6\", \"reversable defect\" = \"7\" )) |>\n",
    "    mutate(diagnosis = as_factor(num)) |>\n",
    "    mutate(diagnosis = fct_recode(diagnosis, \"Sick\" = \"1\",\"Sick\" = \"2\" ,\"Sick\" = \"3\",\"Sick\" = \"4\", \"Healthy\" = \"0\" )) |>\n",
    "\n",
    "    select(age, sex, chol, diagnosis)\n",
    "\n",
    "\n",
    "    \n",
    "\n",
    "\n",
    "head(data_processed)"
   ]
  },
  {
   "cell_type": "code",
   "execution_count": 92,
   "id": "1d5c704b-bcbf-48ae-9d5e-9b73bfe9a511",
   "metadata": {},
   "outputs": [
    {
     "data": {
      "text/html": [
       "<table class=\"dataframe\">\n",
       "<caption>A data.frame: 6 × 4</caption>\n",
       "<thead>\n",
       "\t<tr><th></th><th scope=col>age</th><th scope=col>sex</th><th scope=col>chol</th><th scope=col>diagnosis</th></tr>\n",
       "\t<tr><th></th><th scope=col>&lt;dbl&gt;</th><th scope=col>&lt;fct&gt;</th><th scope=col>&lt;dbl&gt;</th><th scope=col>&lt;fct&gt;</th></tr>\n",
       "</thead>\n",
       "<tbody>\n",
       "\t<tr><th scope=row>1</th><td>40</td><td>male  </td><td>289</td><td>Healthy</td></tr>\n",
       "\t<tr><th scope=row>2</th><td>54</td><td>male  </td><td> -9</td><td>Healthy</td></tr>\n",
       "\t<tr><th scope=row>3</th><td>39</td><td>male  </td><td>339</td><td>Healthy</td></tr>\n",
       "\t<tr><th scope=row>4</th><td>48</td><td>female</td><td>284</td><td>Healthy</td></tr>\n",
       "\t<tr><th scope=row>5</th><td>37</td><td>female</td><td>211</td><td>Healthy</td></tr>\n",
       "\t<tr><th scope=row>6</th><td>39</td><td>male  </td><td>204</td><td>Healthy</td></tr>\n",
       "</tbody>\n",
       "</table>\n"
      ],
      "text/latex": [
       "A data.frame: 6 × 4\n",
       "\\begin{tabular}{r|llll}\n",
       "  & age & sex & chol & diagnosis\\\\\n",
       "  & <dbl> & <fct> & <dbl> & <fct>\\\\\n",
       "\\hline\n",
       "\t1 & 40 & male   & 289 & Healthy\\\\\n",
       "\t2 & 54 & male   &  -9 & Healthy\\\\\n",
       "\t3 & 39 & male   & 339 & Healthy\\\\\n",
       "\t4 & 48 & female & 284 & Healthy\\\\\n",
       "\t5 & 37 & female & 211 & Healthy\\\\\n",
       "\t6 & 39 & male   & 204 & Healthy\\\\\n",
       "\\end{tabular}\n"
      ],
      "text/markdown": [
       "\n",
       "A data.frame: 6 × 4\n",
       "\n",
       "| <!--/--> | age &lt;dbl&gt; | sex &lt;fct&gt; | chol &lt;dbl&gt; | diagnosis &lt;fct&gt; |\n",
       "|---|---|---|---|---|\n",
       "| 1 | 40 | male   | 289 | Healthy |\n",
       "| 2 | 54 | male   |  -9 | Healthy |\n",
       "| 3 | 39 | male   | 339 | Healthy |\n",
       "| 4 | 48 | female | 284 | Healthy |\n",
       "| 5 | 37 | female | 211 | Healthy |\n",
       "| 6 | 39 | male   | 204 | Healthy |\n",
       "\n"
      ],
      "text/plain": [
       "  age sex    chol diagnosis\n",
       "1 40  male   289  Healthy  \n",
       "2 54  male    -9  Healthy  \n",
       "3 39  male   339  Healthy  \n",
       "4 48  female 284  Healthy  \n",
       "5 37  female 211  Healthy  \n",
       "6 39  male   204  Healthy  "
      ]
     },
     "metadata": {},
     "output_type": "display_data"
    },
    {
     "data": {
      "text/html": [
       "<table class=\"dataframe\">\n",
       "<caption>A data.frame: 6 × 4</caption>\n",
       "<thead>\n",
       "\t<tr><th></th><th scope=col>age</th><th scope=col>sex</th><th scope=col>chol</th><th scope=col>diagnosis</th></tr>\n",
       "\t<tr><th></th><th scope=col>&lt;dbl&gt;</th><th scope=col>&lt;fct&gt;</th><th scope=col>&lt;dbl&gt;</th><th scope=col>&lt;fct&gt;</th></tr>\n",
       "</thead>\n",
       "<tbody>\n",
       "\t<tr><th scope=row>1</th><td>37</td><td>male  </td><td>283</td><td>Healthy</td></tr>\n",
       "\t<tr><th scope=row>2</th><td>45</td><td>female</td><td>237</td><td>Healthy</td></tr>\n",
       "\t<tr><th scope=row>3</th><td>54</td><td>male  </td><td>208</td><td>Healthy</td></tr>\n",
       "\t<tr><th scope=row>4</th><td>38</td><td>male  </td><td>196</td><td>Sick   </td></tr>\n",
       "\t<tr><th scope=row>5</th><td>44</td><td>male  </td><td>184</td><td>Healthy</td></tr>\n",
       "\t<tr><th scope=row>6</th><td>44</td><td>male  </td><td>288</td><td>Sick   </td></tr>\n",
       "</tbody>\n",
       "</table>\n"
      ],
      "text/latex": [
       "A data.frame: 6 × 4\n",
       "\\begin{tabular}{r|llll}\n",
       "  & age & sex & chol & diagnosis\\\\\n",
       "  & <dbl> & <fct> & <dbl> & <fct>\\\\\n",
       "\\hline\n",
       "\t1 & 37 & male   & 283 & Healthy\\\\\n",
       "\t2 & 45 & female & 237 & Healthy\\\\\n",
       "\t3 & 54 & male   & 208 & Healthy\\\\\n",
       "\t4 & 38 & male   & 196 & Sick   \\\\\n",
       "\t5 & 44 & male   & 184 & Healthy\\\\\n",
       "\t6 & 44 & male   & 288 & Sick   \\\\\n",
       "\\end{tabular}\n"
      ],
      "text/markdown": [
       "\n",
       "A data.frame: 6 × 4\n",
       "\n",
       "| <!--/--> | age &lt;dbl&gt; | sex &lt;fct&gt; | chol &lt;dbl&gt; | diagnosis &lt;fct&gt; |\n",
       "|---|---|---|---|---|\n",
       "| 1 | 37 | male   | 283 | Healthy |\n",
       "| 2 | 45 | female | 237 | Healthy |\n",
       "| 3 | 54 | male   | 208 | Healthy |\n",
       "| 4 | 38 | male   | 196 | Sick    |\n",
       "| 5 | 44 | male   | 184 | Healthy |\n",
       "| 6 | 44 | male   | 288 | Sick    |\n",
       "\n"
      ],
      "text/plain": [
       "  age sex    chol diagnosis\n",
       "1 37  male   283  Healthy  \n",
       "2 45  female 237  Healthy  \n",
       "3 54  male   208  Healthy  \n",
       "4 38  male   196  Sick     \n",
       "5 44  male   184  Healthy  \n",
       "6 44  male   288  Sick     "
      ]
     },
     "metadata": {},
     "output_type": "display_data"
    }
   ],
   "source": [
    "#spliting the data\n",
    "data_split <- initial_split(data_processed, prop = 0.75, strata = diagnosis)  \n",
    "\n",
    "data_training <- training(data_split)\n",
    "\n",
    "data_testing <- testing(data_split)\n",
    "\n",
    "head(data_training)\n",
    "head(data_testing)\n"
   ]
  },
  {
   "cell_type": "code",
   "execution_count": 93,
   "id": "b4192150-7932-4bc3-a374-9787fc23d35c",
   "metadata": {},
   "outputs": [
    {
     "name": "stderr",
     "output_type": "stream",
     "text": [
      "\u001b[1m\u001b[22m`summarise()` has grouped output by 'diagnosis'. You can override using the\n",
      "`.groups` argument.\n"
     ]
    },
    {
     "data": {
      "text/html": [
       "<table class=\"dataframe\">\n",
       "<caption>A grouped_df: 4 × 5</caption>\n",
       "<thead>\n",
       "\t<tr><th scope=col>diagnosis</th><th scope=col>sex</th><th scope=col>mean_age</th><th scope=col>mean_chol</th><th scope=col>count</th></tr>\n",
       "\t<tr><th scope=col>&lt;fct&gt;</th><th scope=col>&lt;fct&gt;</th><th scope=col>&lt;dbl&gt;</th><th scope=col>&lt;dbl&gt;</th><th scope=col>&lt;int&gt;</th></tr>\n",
       "</thead>\n",
       "<tbody>\n",
       "\t<tr><td>Healthy</td><td>female</td><td>46.85714</td><td>215.5357</td><td>56</td></tr>\n",
       "\t<tr><td>Healthy</td><td>male  </td><td>46.64706</td><td>218.6000</td><td>85</td></tr>\n",
       "\t<tr><td>Sick   </td><td>female</td><td>52.44444</td><td>281.8889</td><td> 9</td></tr>\n",
       "\t<tr><td>Sick   </td><td>male  </td><td>49.05714</td><td>253.1143</td><td>70</td></tr>\n",
       "</tbody>\n",
       "</table>\n"
      ],
      "text/latex": [
       "A grouped\\_df: 4 × 5\n",
       "\\begin{tabular}{lllll}\n",
       " diagnosis & sex & mean\\_age & mean\\_chol & count\\\\\n",
       " <fct> & <fct> & <dbl> & <dbl> & <int>\\\\\n",
       "\\hline\n",
       "\t Healthy & female & 46.85714 & 215.5357 & 56\\\\\n",
       "\t Healthy & male   & 46.64706 & 218.6000 & 85\\\\\n",
       "\t Sick    & female & 52.44444 & 281.8889 &  9\\\\\n",
       "\t Sick    & male   & 49.05714 & 253.1143 & 70\\\\\n",
       "\\end{tabular}\n"
      ],
      "text/markdown": [
       "\n",
       "A grouped_df: 4 × 5\n",
       "\n",
       "| diagnosis &lt;fct&gt; | sex &lt;fct&gt; | mean_age &lt;dbl&gt; | mean_chol &lt;dbl&gt; | count &lt;int&gt; |\n",
       "|---|---|---|---|---|\n",
       "| Healthy | female | 46.85714 | 215.5357 | 56 |\n",
       "| Healthy | male   | 46.64706 | 218.6000 | 85 |\n",
       "| Sick    | female | 52.44444 | 281.8889 |  9 |\n",
       "| Sick    | male   | 49.05714 | 253.1143 | 70 |\n",
       "\n"
      ],
      "text/plain": [
       "  diagnosis sex    mean_age mean_chol count\n",
       "1 Healthy   female 46.85714 215.5357  56   \n",
       "2 Healthy   male   46.64706 218.6000  85   \n",
       "3 Sick      female 52.44444 281.8889   9   \n",
       "4 Sick      male   49.05714 253.1143  70   "
      ]
     },
     "metadata": {},
     "output_type": "display_data"
    }
   ],
   "source": [
    "#summarizing the data\n",
    "data_summarized <- data_training |>\n",
    "    group_by(diagnosis, sex) |>\n",
    "    summarize(mean_age = mean(age),\n",
    "              mean_chol = mean(chol),\n",
    "              count = n())\n",
    "\n",
    "data_summarized"
   ]
  },
  {
   "cell_type": "markdown",
   "id": "5d63313f-1de0-41c4-afa1-2e12103563cc",
   "metadata": {},
   "source": [
    "## Method"
   ]
  },
  {
   "cell_type": "markdown",
   "id": "7a3ff214-641d-49a9-935c-70bdec3eebda",
   "metadata": {},
   "source": [
    "## Expected Outcomes and Significance"
   ]
  },
  {
   "cell_type": "markdown",
   "id": "97c67087-089f-443f-9d20-c427ef295cf7",
   "metadata": {},
   "source": [
    "We expect to find a higher rate of heart disease in older individuals, with men having a higher likelihood than women.\n",
    "\n",
    "By considering both age and sex, healthcare providers can better assess a person's overall risk profile and tailor preventive measures and treatment strategies accordingly. This can lead to a more targeted screening process, with earlier intervention programs for older men and women. Additionally, more information can be distributed to the demographic it would benefit most.\n",
    "\n",
    "These results could lead researchers to ask questions about why age and sex play such a big role in predicting heart disease by exploring the role of things such as hormones, lifestyle factors, and genetic predispositions. Studies could also find the effectiveness of targeting specific groups in preventative measures in order to reduce the risk of heart disease, compared to general population based approaches.\n"
   ]
  },
  {
   "cell_type": "markdown",
   "id": "c6d57d43-d4e6-40cf-ba4f-c10618a8681d",
   "metadata": {},
   "source": [
    "## Bibliography"
   ]
  },
  {
   "cell_type": "markdown",
   "id": "840092d7-408c-413a-bdce-7cb8d68b1172",
   "metadata": {},
   "source": [
    "1. Centers for Disease Control and Prevention. (n.d.). Centers for Disease Control and Prevention. https://www.cdc.gov/index.htm\n",
    "   \n",
    "3. Jousilahti, P., Vartiainen, E., Tuomilehto, J., & Puska, P. (1999). Sex, age, cardiovascular risk factors, and coronary heart disease. Circulation, 99(9), 1165–1172. https://doi.org/10.1161/01.cir.99.9.1165\n"
   ]
  },
  {
   "cell_type": "code",
   "execution_count": null,
   "id": "517a829b-8c93-4361-a5fc-5b586724f3b5",
   "metadata": {},
   "outputs": [],
   "source": []
  }
 ],
 "metadata": {
  "kernelspec": {
   "display_name": "R",
   "language": "R",
   "name": "ir"
  },
  "language_info": {
   "codemirror_mode": "r",
   "file_extension": ".r",
   "mimetype": "text/x-r-source",
   "name": "R",
   "pygments_lexer": "r",
   "version": "4.3.1"
  }
 },
 "nbformat": 4,
 "nbformat_minor": 5
}
