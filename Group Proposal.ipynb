{
 "cells": [
  {
   "cell_type": "markdown",
   "id": "a56eccab-6d45-4afa-8da6-0146b53b49ff",
   "metadata": {},
   "source": [
    "# Group Project ProposalHeart Disease"
   ]
  },
  {
   "cell_type": "markdown",
   "id": "eccac296-2b81-425b-acb9-537dd96d75c2",
   "metadata": {},
   "source": [
    "### Introduction\n",
    "\n",
    "\n",
    "\r\n",
    "Provide some relevant background information on the topic so that someone unfamiliar with it will be prepared to understand the rest of your proposal\r\n",
    "Clearly state the question you will try to answer with your project\r\n",
    "Identify and describe the dataset that will be used to answer the ques\n",
    "\n",
    "tion\r\n",
    "Preliminary exploratory data analysis:\r\n",
    "Demonstrate that the dataset can be read from the web into R \r\n",
    "Clean and wrangle your data into a tidy format\r\n",
    "Using only training data, summarize the data in at least one table (this is exploratory data analysis). An example of a useful table could be one that reports the number of observations in each class, the means of the predictor variables you plan to use in your analysis and how many rows have missing data. \r\n",
    "Using only training data, visualize the data with at least one plot relevant to the analysis you plan to do (this is exploratory data analysis). An example of a useful visualization could be one that compares the distributions of each of the predictor variables you plan to use in your \n",
    "\n",
    "\n",
    "analysis.\r\n",
    "Methods:\r\n",
    "Explain how you will conduct either your data analysis and which variables/columns you will use. Note - you do not need to use all variables/columns that exist in the raw data set. In fact, that's often not a good idea. For each variable think: is this a useful variable for prediction?\r\n",
    "Describe at least one way that you will visualize\n",
    "\n",
    " the results\r\n",
    "Expected outcomes and significance:\r\n",
    "What do you expect to find?\r\n",
    "What impact could such findings have?\r\n",
    "What future questions could this lead to?"
   ]
  },
  {
   "cell_type": "code",
   "execution_count": 36,
   "id": "9e3797d8-a939-4762-b550-be9d8de20844",
   "metadata": {},
   "outputs": [],
   "source": [
    "library(tidyverse)\n",
    "library(repr)\n",
    "library(tidymodels)\n",
    "options(repr.matrix.max.rows = 6)"
   ]
  },
  {
   "cell_type": "markdown",
   "id": "973807de-d0db-4c5f-b8b0-e492d8126493",
   "metadata": {},
   "source": [
    "Introduction:\n",
    "\n",
    "Heart disease refers to a range of conditions that affect the heart and the term is often used interchangeably with \"cardiovascular disease,\" which generally refers to conditions that involve narrowed or blocked blood vessels that can lead to a heart attack. Heart disease is also a leading cause of death globally, one in five deaths in the U.S. is caused by heart disease and heart disease cost the U.S. 239.9 billion dollars each year. \n",
    "\n"
   ]
  },
  {
   "cell_type": "code",
   "execution_count": 62,
   "id": "f870f96d-3279-476c-87e3-90430b9c523d",
   "metadata": {},
   "outputs": [
    {
     "data": {
      "text/html": [
       "<table class=\"dataframe\">\n",
       "<caption>A data.frame: 6 × 14</caption>\n",
       "<thead>\n",
       "\t<tr><th></th><th scope=col>V1</th><th scope=col>V2</th><th scope=col>V3</th><th scope=col>V4</th><th scope=col>V5</th><th scope=col>V6</th><th scope=col>V7</th><th scope=col>V8</th><th scope=col>V9</th><th scope=col>V10</th><th scope=col>V11</th><th scope=col>V12</th><th scope=col>V13</th><th scope=col>V14</th></tr>\n",
       "\t<tr><th></th><th scope=col>&lt;int&gt;</th><th scope=col>&lt;int&gt;</th><th scope=col>&lt;int&gt;</th><th scope=col>&lt;int&gt;</th><th scope=col>&lt;int&gt;</th><th scope=col>&lt;int&gt;</th><th scope=col>&lt;int&gt;</th><th scope=col>&lt;int&gt;</th><th scope=col>&lt;int&gt;</th><th scope=col>&lt;dbl&gt;</th><th scope=col>&lt;int&gt;</th><th scope=col>&lt;int&gt;</th><th scope=col>&lt;int&gt;</th><th scope=col>&lt;int&gt;</th></tr>\n",
       "</thead>\n",
       "<tbody>\n",
       "\t<tr><th scope=row>1</th><td>40</td><td>1</td><td>2</td><td>140</td><td>289</td><td>0</td><td>0</td><td>172</td><td>0</td><td>0.0</td><td>-9</td><td>-9</td><td>-9</td><td>0</td></tr>\n",
       "\t<tr><th scope=row>2</th><td>49</td><td>0</td><td>3</td><td>160</td><td>180</td><td>0</td><td>0</td><td>156</td><td>0</td><td>1.0</td><td> 2</td><td>-9</td><td>-9</td><td>1</td></tr>\n",
       "\t<tr><th scope=row>3</th><td>37</td><td>1</td><td>2</td><td>130</td><td>283</td><td>0</td><td>1</td><td> 98</td><td>0</td><td>0.0</td><td>-9</td><td>-9</td><td>-9</td><td>0</td></tr>\n",
       "\t<tr><th scope=row>4</th><td>48</td><td>0</td><td>4</td><td>138</td><td>214</td><td>0</td><td>0</td><td>108</td><td>1</td><td>1.5</td><td> 2</td><td>-9</td><td>-9</td><td>3</td></tr>\n",
       "\t<tr><th scope=row>5</th><td>54</td><td>1</td><td>3</td><td>150</td><td> -9</td><td>0</td><td>0</td><td>122</td><td>0</td><td>0.0</td><td>-9</td><td>-9</td><td>-9</td><td>0</td></tr>\n",
       "\t<tr><th scope=row>6</th><td>39</td><td>1</td><td>3</td><td>120</td><td>339</td><td>0</td><td>0</td><td>170</td><td>0</td><td>0.0</td><td>-9</td><td>-9</td><td>-9</td><td>0</td></tr>\n",
       "</tbody>\n",
       "</table>\n"
      ],
      "text/latex": [
       "A data.frame: 6 × 14\n",
       "\\begin{tabular}{r|llllllllllllll}\n",
       "  & V1 & V2 & V3 & V4 & V5 & V6 & V7 & V8 & V9 & V10 & V11 & V12 & V13 & V14\\\\\n",
       "  & <int> & <int> & <int> & <int> & <int> & <int> & <int> & <int> & <int> & <dbl> & <int> & <int> & <int> & <int>\\\\\n",
       "\\hline\n",
       "\t1 & 40 & 1 & 2 & 140 & 289 & 0 & 0 & 172 & 0 & 0.0 & -9 & -9 & -9 & 0\\\\\n",
       "\t2 & 49 & 0 & 3 & 160 & 180 & 0 & 0 & 156 & 0 & 1.0 &  2 & -9 & -9 & 1\\\\\n",
       "\t3 & 37 & 1 & 2 & 130 & 283 & 0 & 1 &  98 & 0 & 0.0 & -9 & -9 & -9 & 0\\\\\n",
       "\t4 & 48 & 0 & 4 & 138 & 214 & 0 & 0 & 108 & 1 & 1.5 &  2 & -9 & -9 & 3\\\\\n",
       "\t5 & 54 & 1 & 3 & 150 &  -9 & 0 & 0 & 122 & 0 & 0.0 & -9 & -9 & -9 & 0\\\\\n",
       "\t6 & 39 & 1 & 3 & 120 & 339 & 0 & 0 & 170 & 0 & 0.0 & -9 & -9 & -9 & 0\\\\\n",
       "\\end{tabular}\n"
      ],
      "text/markdown": [
       "\n",
       "A data.frame: 6 × 14\n",
       "\n",
       "| <!--/--> | V1 &lt;int&gt; | V2 &lt;int&gt; | V3 &lt;int&gt; | V4 &lt;int&gt; | V5 &lt;int&gt; | V6 &lt;int&gt; | V7 &lt;int&gt; | V8 &lt;int&gt; | V9 &lt;int&gt; | V10 &lt;dbl&gt; | V11 &lt;int&gt; | V12 &lt;int&gt; | V13 &lt;int&gt; | V14 &lt;int&gt; |\n",
       "|---|---|---|---|---|---|---|---|---|---|---|---|---|---|---|\n",
       "| 1 | 40 | 1 | 2 | 140 | 289 | 0 | 0 | 172 | 0 | 0.0 | -9 | -9 | -9 | 0 |\n",
       "| 2 | 49 | 0 | 3 | 160 | 180 | 0 | 0 | 156 | 0 | 1.0 |  2 | -9 | -9 | 1 |\n",
       "| 3 | 37 | 1 | 2 | 130 | 283 | 0 | 1 |  98 | 0 | 0.0 | -9 | -9 | -9 | 0 |\n",
       "| 4 | 48 | 0 | 4 | 138 | 214 | 0 | 0 | 108 | 1 | 1.5 |  2 | -9 | -9 | 3 |\n",
       "| 5 | 54 | 1 | 3 | 150 |  -9 | 0 | 0 | 122 | 0 | 0.0 | -9 | -9 | -9 | 0 |\n",
       "| 6 | 39 | 1 | 3 | 120 | 339 | 0 | 0 | 170 | 0 | 0.0 | -9 | -9 | -9 | 0 |\n",
       "\n"
      ],
      "text/plain": [
       "  V1 V2 V3 V4  V5  V6 V7 V8  V9 V10 V11 V12 V13 V14\n",
       "1 40 1  2  140 289 0  0  172 0  0.0 -9  -9  -9  0  \n",
       "2 49 0  3  160 180 0  0  156 0  1.0  2  -9  -9  1  \n",
       "3 37 1  2  130 283 0  1   98 0  0.0 -9  -9  -9  0  \n",
       "4 48 0  4  138 214 0  0  108 1  1.5  2  -9  -9  3  \n",
       "5 54 1  3  150  -9 0  0  122 0  0.0 -9  -9  -9  0  \n",
       "6 39 1  3  120 339 0  0  170 0  0.0 -9  -9  -9  0  "
      ]
     },
     "metadata": {},
     "output_type": "display_data"
    }
   ],
   "source": [
    "# cleaveland_data <- read_tsv(\"data/cleve.mod\", skip = 20)\n",
    "\n",
    "url <- \"https://raw.githubusercontent.com/ANGUO17/dsci-100-2023w2-group-06/main/heart%2Bdisease/reprocessed.hungarian.data\"\n",
    "\n",
    "data <- read.table(url) \n",
    "\n",
    "    \n",
    "head(data)\n",
    "\n",
    "\n"
   ]
  },
  {
   "cell_type": "code",
   "execution_count": null,
   "id": "234d3c16-8ce4-481e-a7d0-139fabcdcfcf",
   "metadata": {},
   "outputs": [],
   "source": []
  }
 ],
 "metadata": {
  "kernelspec": {
   "display_name": "R",
   "language": "R",
   "name": "ir"
  },
  "language_info": {
   "codemirror_mode": "r",
   "file_extension": ".r",
   "mimetype": "text/x-r-source",
   "name": "R",
   "pygments_lexer": "r",
   "version": "4.3.1"
  }
 },
 "nbformat": 4,
 "nbformat_minor": 5
}
