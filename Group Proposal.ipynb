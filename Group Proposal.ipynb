{
 "cells": [
  {
   "cell_type": "markdown",
   "id": "a56eccab-6d45-4afa-8da6-0146b53b49ff",
   "metadata": {},
   "source": [
    "# Group Project ProposalHeart Disease"
   ]
  },
  {
   "cell_type": "markdown",
   "id": "eccac296-2b81-425b-acb9-537dd96d75c2",
   "metadata": {},
   "source": [
    "Introduction\n",
    "\n",
    "\n",
    "\r\n",
    "Provide some relevant background information on the topic so that someone unfamiliar with it will be prepared to understand the rest of your proposal\r\n",
    "Clearly state the question you will try to answer with your project\r\n",
    "Identify and describe the dataset that will be used to answer the ques\n",
    "\n",
    "tion\r\n",
    "Preliminary exploratory data analysis:\r\n",
    "Demonstrate that the dataset can be read from the web into R \r\n",
    "Clean and wrangle your data into a tidy format\r\n",
    "Using only training data, summarize the data in at least one table (this is exploratory data analysis). An example of a useful table could be one that reports the number of observations in each class, the means of the predictor variables you plan to use in your analysis and how many rows have missing data. \r\n",
    "Using only training data, visualize the data with at least one plot relevant to the analysis you plan to do (this is exploratory data analysis). An example of a useful visualization could be one that compares the distributions of each of the predictor variables you plan to use in your \n",
    "\n",
    "\n",
    "analysis.\r\n",
    "Methods:\r\n",
    "Explain how you will conduct either your data analysis and which variables/columns you will use. Note - you do not need to use all variables/columns that exist in the raw data set. In fact, that's often not a good idea. For each variable think: is this a useful variable for prediction?\r\n",
    "Describe at least one way that you will visualize\n",
    "\n",
    " the results\r\n",
    "Expected outcomes and significance:\r\n",
    "What do you expect to find?\r\n",
    "What impact could such findings have?\r\n",
    "What future questions could this lead to?"
   ]
  },
  {
   "cell_type": "code",
   "execution_count": 36,
   "id": "9e3797d8-a939-4762-b550-be9d8de20844",
   "metadata": {},
   "outputs": [],
   "source": [
    "library(tidyverse)\n",
    "library(repr)\n",
    "library(tidymodels)\n",
    "options(repr.matrix.max.rows = 6)"
   ]
  },
  {
   "cell_type": "markdown",
   "id": "973807de-d0db-4c5f-b8b0-e492d8126493",
   "metadata": {},
   "source": [
    "Introduction:\n",
    "\n",
    "Heart disease refers to a range of conditions that affect the heart and the term is often used interchangeably with \"cardiovascular disease,\" which generally refers to conditions that involve narrowed or blocked blood vessels that can lead to a heart attack. Heart disease is also a leading cause of death globally, one in five deaths in the U.S. is caused by heart disease and heart disease cost the U.S. 239.9 billion dollars each year. \n",
    "\n"
   ]
  },
  {
   "cell_type": "code",
   "execution_count": 59,
   "id": "f870f96d-3279-476c-87e3-90430b9c523d",
   "metadata": {},
   "outputs": [
    {
     "data": {
      "text/html": [
       "<table class=\"dataframe\">\n",
       "<caption>A data.frame: 303 × 15</caption>\n",
       "<thead>\n",
       "\t<tr><th scope=col>V1</th><th scope=col>V2</th><th scope=col>V3</th><th scope=col>V4</th><th scope=col>V5</th><th scope=col>V6</th><th scope=col>V7</th><th scope=col>V8</th><th scope=col>V9</th><th scope=col>V10</th><th scope=col>V11</th><th scope=col>V12</th><th scope=col>V13</th><th scope=col>V14</th><th scope=col>V15</th></tr>\n",
       "\t<tr><th scope=col>&lt;dbl&gt;</th><th scope=col>&lt;chr&gt;</th><th scope=col>&lt;chr&gt;</th><th scope=col>&lt;dbl&gt;</th><th scope=col>&lt;dbl&gt;</th><th scope=col>&lt;chr&gt;</th><th scope=col>&lt;chr&gt;</th><th scope=col>&lt;dbl&gt;</th><th scope=col>&lt;chr&gt;</th><th scope=col>&lt;dbl&gt;</th><th scope=col>&lt;chr&gt;</th><th scope=col>&lt;chr&gt;</th><th scope=col>&lt;chr&gt;</th><th scope=col>&lt;chr&gt;</th><th scope=col>&lt;chr&gt;</th></tr>\n",
       "</thead>\n",
       "<tbody>\n",
       "\t<tr><td>63</td><td>male</td><td>angina</td><td>145</td><td>233</td><td>true</td><td>hyp</td><td>150</td><td>fal </td><td>2.3</td><td>down</td><td>0.0</td><td>fix </td><td>buff</td><td>H </td></tr>\n",
       "\t<tr><td>67</td><td>male</td><td>asympt</td><td>160</td><td>286</td><td>fal </td><td>hyp</td><td>108</td><td>true</td><td>1.5</td><td>flat</td><td>3.0</td><td>norm</td><td>sick</td><td>S2</td></tr>\n",
       "\t<tr><td>67</td><td>male</td><td>asympt</td><td>120</td><td>229</td><td>fal </td><td>hyp</td><td>129</td><td>true</td><td>2.6</td><td>flat</td><td>2.0</td><td>rev </td><td>sick</td><td>S1</td></tr>\n",
       "\t<tr><td>⋮</td><td>⋮</td><td>⋮</td><td>⋮</td><td>⋮</td><td>⋮</td><td>⋮</td><td>⋮</td><td>⋮</td><td>⋮</td><td>⋮</td><td>⋮</td><td>⋮</td><td>⋮</td><td>⋮</td></tr>\n",
       "\t<tr><td>49</td><td>male</td><td>notang</td><td>118</td><td>149</td><td>fal</td><td>hyp </td><td>126</td><td>fal </td><td>0.8</td><td>up</td><td>3.0</td><td>norm</td><td>sick</td><td>S1</td></tr>\n",
       "\t<tr><td>74</td><td>fem </td><td>abnang</td><td>120</td><td>269</td><td>fal</td><td>hyp </td><td>121</td><td>true</td><td>0.2</td><td>up</td><td>1.0</td><td>norm</td><td>buff</td><td>H </td></tr>\n",
       "\t<tr><td>54</td><td>fem </td><td>notang</td><td>160</td><td>201</td><td>fal</td><td>norm</td><td>163</td><td>fal </td><td>0.0</td><td>up</td><td>1.0</td><td>norm</td><td>buff</td><td>H </td></tr>\n",
       "</tbody>\n",
       "</table>\n"
      ],
      "text/latex": [
       "A data.frame: 303 × 15\n",
       "\\begin{tabular}{lllllllllllllll}\n",
       " V1 & V2 & V3 & V4 & V5 & V6 & V7 & V8 & V9 & V10 & V11 & V12 & V13 & V14 & V15\\\\\n",
       " <dbl> & <chr> & <chr> & <dbl> & <dbl> & <chr> & <chr> & <dbl> & <chr> & <dbl> & <chr> & <chr> & <chr> & <chr> & <chr>\\\\\n",
       "\\hline\n",
       "\t 63 & male & angina & 145 & 233 & true & hyp & 150 & fal  & 2.3 & down & 0.0 & fix  & buff & H \\\\\n",
       "\t 67 & male & asympt & 160 & 286 & fal  & hyp & 108 & true & 1.5 & flat & 3.0 & norm & sick & S2\\\\\n",
       "\t 67 & male & asympt & 120 & 229 & fal  & hyp & 129 & true & 2.6 & flat & 2.0 & rev  & sick & S1\\\\\n",
       "\t ⋮ & ⋮ & ⋮ & ⋮ & ⋮ & ⋮ & ⋮ & ⋮ & ⋮ & ⋮ & ⋮ & ⋮ & ⋮ & ⋮ & ⋮\\\\\n",
       "\t 49 & male & notang & 118 & 149 & fal & hyp  & 126 & fal  & 0.8 & up & 3.0 & norm & sick & S1\\\\\n",
       "\t 74 & fem  & abnang & 120 & 269 & fal & hyp  & 121 & true & 0.2 & up & 1.0 & norm & buff & H \\\\\n",
       "\t 54 & fem  & notang & 160 & 201 & fal & norm & 163 & fal  & 0.0 & up & 1.0 & norm & buff & H \\\\\n",
       "\\end{tabular}\n"
      ],
      "text/markdown": [
       "\n",
       "A data.frame: 303 × 15\n",
       "\n",
       "| V1 &lt;dbl&gt; | V2 &lt;chr&gt; | V3 &lt;chr&gt; | V4 &lt;dbl&gt; | V5 &lt;dbl&gt; | V6 &lt;chr&gt; | V7 &lt;chr&gt; | V8 &lt;dbl&gt; | V9 &lt;chr&gt; | V10 &lt;dbl&gt; | V11 &lt;chr&gt; | V12 &lt;chr&gt; | V13 &lt;chr&gt; | V14 &lt;chr&gt; | V15 &lt;chr&gt; |\n",
       "|---|---|---|---|---|---|---|---|---|---|---|---|---|---|---|\n",
       "| 63 | male | angina | 145 | 233 | true | hyp | 150 | fal  | 2.3 | down | 0.0 | fix  | buff | H  |\n",
       "| 67 | male | asympt | 160 | 286 | fal  | hyp | 108 | true | 1.5 | flat | 3.0 | norm | sick | S2 |\n",
       "| 67 | male | asympt | 120 | 229 | fal  | hyp | 129 | true | 2.6 | flat | 2.0 | rev  | sick | S1 |\n",
       "| ⋮ | ⋮ | ⋮ | ⋮ | ⋮ | ⋮ | ⋮ | ⋮ | ⋮ | ⋮ | ⋮ | ⋮ | ⋮ | ⋮ | ⋮ |\n",
       "| 49 | male | notang | 118 | 149 | fal | hyp  | 126 | fal  | 0.8 | up | 3.0 | norm | sick | S1 |\n",
       "| 74 | fem  | abnang | 120 | 269 | fal | hyp  | 121 | true | 0.2 | up | 1.0 | norm | buff | H  |\n",
       "| 54 | fem  | notang | 160 | 201 | fal | norm | 163 | fal  | 0.0 | up | 1.0 | norm | buff | H  |\n",
       "\n"
      ],
      "text/plain": [
       "    V1 V2   V3     V4  V5  V6   V7   V8  V9   V10 V11  V12 V13  V14  V15\n",
       "1   63 male angina 145 233 true hyp  150 fal  2.3 down 0.0 fix  buff H  \n",
       "2   67 male asympt 160 286 fal  hyp  108 true 1.5 flat 3.0 norm sick S2 \n",
       "3   67 male asympt 120 229 fal  hyp  129 true 2.6 flat 2.0 rev  sick S1 \n",
       "⋮   ⋮  ⋮    ⋮      ⋮   ⋮   ⋮    ⋮    ⋮   ⋮    ⋮   ⋮    ⋮   ⋮    ⋮    ⋮  \n",
       "301 49 male notang 118 149 fal  hyp  126 fal  0.8 up   3.0 norm sick S1 \n",
       "302 74 fem  abnang 120 269 fal  hyp  121 true 0.2 up   1.0 norm buff H  \n",
       "303 54 fem  notang 160 201 fal  norm 163 fal  0.0 up   1.0 norm buff H  "
      ]
     },
     "metadata": {},
     "output_type": "display_data"
    }
   ],
   "source": [
    "# cleaveland_data <- read_tsv(\"data/cleve.mod\", skip = 20)\n",
    "\n",
    "url <- \"https://raw.githubusercontent.com/ANGUO17/dsci-100-2023w2-group-06/main/heart%2Bdisease/cleve.mod\"\n",
    "\n",
    "data <- read.table(url, skip = 20)\n",
    "\n",
    "head(data)\n",
    "\n"
   ]
  },
  {
   "cell_type": "code",
   "execution_count": null,
   "id": "234d3c16-8ce4-481e-a7d0-139fabcdcfcf",
   "metadata": {},
   "outputs": [],
   "source": []
  }
 ],
 "metadata": {
  "kernelspec": {
   "display_name": "R",
   "language": "R",
   "name": "ir"
  },
  "language_info": {
   "codemirror_mode": "r",
   "file_extension": ".r",
   "mimetype": "text/x-r-source",
   "name": "R",
   "pygments_lexer": "r",
   "version": "4.3.1"
  }
 },
 "nbformat": 4,
 "nbformat_minor": 5
}
