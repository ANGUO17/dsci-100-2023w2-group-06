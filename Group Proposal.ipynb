{
 "cells": [
  {
   "cell_type": "markdown",
   "id": "a56eccab-6d45-4afa-8da6-0146b53b49ff",
   "metadata": {},
   "source": [
    "# Group Project ProposalHeart Disease"
   ]
  },
  {
   "cell_type": "code",
   "execution_count": null,
   "id": "4ab1441a-a917-4686-9aa8-1f1c936460f1",
   "metadata": {},
   "outputs": [],
   "source": []
  }
 ],
 "metadata": {
  "kernelspec": {
   "display_name": "R",
   "language": "R",
   "name": "ir"
  },
  "language_info": {
   "codemirror_mode": "r",
   "file_extension": ".r",
   "mimetype": "text/x-r-source",
   "name": "R",
   "pygments_lexer": "r",
   "version": "4.3.1"
  }
 },
 "nbformat": 4,
 "nbformat_minor": 5
}
