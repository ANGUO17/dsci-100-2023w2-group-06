{
 "cells": [
  {
   "cell_type": "markdown",
   "id": "a56eccab-6d45-4afa-8da6-0146b53b49ff",
   "metadata": {},
   "source": [
    "# Use age and sex to determine the presence of heart disease in patients of Hungary."
   ]
  },
  {
   "cell_type": "markdown",
   "id": "88bba867-4db0-4429-aaf0-73e9576e8bd5",
   "metadata": {},
   "source": [
    "## Introduction: \n",
    "\n",
    "Heart disease refers to a range of conditions that affect the heart and the term is often used interchangeably with \"cardiovascular disease,\" which generally refers to conditions that involve narrowed or blocked blood vessels that can lead to a heart attack. Heart disease is also a leading cause of death globally, one in five deaths in the U.S. is caused by heart disease and heart disease costs the U.S. 239.9 billion dollars each year. There are many risk factors that are directly associated with the presence of heart disease in patients, such as age and sex. In both sexes, the risk of heart disease increases with age, but the increase is sharper in women. This increase with age is primarily due to the gradual buildup of plaque in the arteries. Additionally, sex plays a role, as men tend to have a higher risk of heart disease at a younger age compared to women. With that said, the goal for us today is to classify patients with or without heart disease by distinguishing the likelihood using the age and sex factors. \n",
    "\n",
    "Question: Which demographic group is mostly likely to have heart disease based on the age and sex factors?\n",
    "\n",
    "The dataset we will be using to perform this process on will be the Hungary Heart Disease database (“reprocessed.hungarian.data”); a data set intended to determine the presence of heart disease in patients of Hungary. It contains data of 14 variables, including age, sex, cholesteral and so on. "
   ]
  },
  {
   "cell_type": "markdown",
   "id": "ff5a3bf9-7833-41c6-9b84-21ca18dcba5b",
   "metadata": {},
   "source": [
    "## Preliminary exploratory data analysis"
   ]
  },
  {
   "cell_type": "code",
   "execution_count": 10,
   "id": "9e3797d8-a939-4762-b550-be9d8de20844",
   "metadata": {},
   "outputs": [],
   "source": [
    "## Run this cell before continuing \n",
    "library(tidyverse)\n",
    "library(repr)\n",
    "library(tidymodels)\n",
    "library(RColorBrewer)\n",
    "options(repr.matrix.max.rows = 6)\n",
    "set.seed(17)"
   ]
  },
  {
   "cell_type": "markdown",
   "id": "71940bce-2f16-4405-a03e-90f09af73ecf",
   "metadata": {},
   "source": [
    "### Importing the Data Set"
   ]
  },
  {
   "cell_type": "code",
   "execution_count": 11,
   "id": "f870f96d-3279-476c-87e3-90430b9c523d",
   "metadata": {},
   "outputs": [
    {
     "data": {
      "text/html": [
       "<table class=\"dataframe\">\n",
       "<caption>A data.frame: 6 × 14</caption>\n",
       "<thead>\n",
       "\t<tr><th></th><th scope=col>age</th><th scope=col>sex</th><th scope=col>cp</th><th scope=col>trestbps</th><th scope=col>chol</th><th scope=col>fbs</th><th scope=col>restecg</th><th scope=col>thalach</th><th scope=col>exang</th><th scope=col>oldpeak</th><th scope=col>slope</th><th scope=col>ca</th><th scope=col>thal</th><th scope=col>num</th></tr>\n",
       "\t<tr><th></th><th scope=col>&lt;int&gt;</th><th scope=col>&lt;int&gt;</th><th scope=col>&lt;int&gt;</th><th scope=col>&lt;int&gt;</th><th scope=col>&lt;int&gt;</th><th scope=col>&lt;int&gt;</th><th scope=col>&lt;int&gt;</th><th scope=col>&lt;int&gt;</th><th scope=col>&lt;int&gt;</th><th scope=col>&lt;dbl&gt;</th><th scope=col>&lt;int&gt;</th><th scope=col>&lt;int&gt;</th><th scope=col>&lt;int&gt;</th><th scope=col>&lt;int&gt;</th></tr>\n",
       "</thead>\n",
       "<tbody>\n",
       "\t<tr><th scope=row>1</th><td>40</td><td>1</td><td>2</td><td>140</td><td>289</td><td>0</td><td>0</td><td>172</td><td>0</td><td>0.0</td><td>-9</td><td>-9</td><td>-9</td><td>0</td></tr>\n",
       "\t<tr><th scope=row>2</th><td>49</td><td>0</td><td>3</td><td>160</td><td>180</td><td>0</td><td>0</td><td>156</td><td>0</td><td>1.0</td><td> 2</td><td>-9</td><td>-9</td><td>1</td></tr>\n",
       "\t<tr><th scope=row>3</th><td>37</td><td>1</td><td>2</td><td>130</td><td>283</td><td>0</td><td>1</td><td> 98</td><td>0</td><td>0.0</td><td>-9</td><td>-9</td><td>-9</td><td>0</td></tr>\n",
       "\t<tr><th scope=row>4</th><td>48</td><td>0</td><td>4</td><td>138</td><td>214</td><td>0</td><td>0</td><td>108</td><td>1</td><td>1.5</td><td> 2</td><td>-9</td><td>-9</td><td>3</td></tr>\n",
       "\t<tr><th scope=row>5</th><td>54</td><td>1</td><td>3</td><td>150</td><td> -9</td><td>0</td><td>0</td><td>122</td><td>0</td><td>0.0</td><td>-9</td><td>-9</td><td>-9</td><td>0</td></tr>\n",
       "\t<tr><th scope=row>6</th><td>39</td><td>1</td><td>3</td><td>120</td><td>339</td><td>0</td><td>0</td><td>170</td><td>0</td><td>0.0</td><td>-9</td><td>-9</td><td>-9</td><td>0</td></tr>\n",
       "</tbody>\n",
       "</table>\n"
      ],
      "text/latex": [
       "A data.frame: 6 × 14\n",
       "\\begin{tabular}{r|llllllllllllll}\n",
       "  & age & sex & cp & trestbps & chol & fbs & restecg & thalach & exang & oldpeak & slope & ca & thal & num\\\\\n",
       "  & <int> & <int> & <int> & <int> & <int> & <int> & <int> & <int> & <int> & <dbl> & <int> & <int> & <int> & <int>\\\\\n",
       "\\hline\n",
       "\t1 & 40 & 1 & 2 & 140 & 289 & 0 & 0 & 172 & 0 & 0.0 & -9 & -9 & -9 & 0\\\\\n",
       "\t2 & 49 & 0 & 3 & 160 & 180 & 0 & 0 & 156 & 0 & 1.0 &  2 & -9 & -9 & 1\\\\\n",
       "\t3 & 37 & 1 & 2 & 130 & 283 & 0 & 1 &  98 & 0 & 0.0 & -9 & -9 & -9 & 0\\\\\n",
       "\t4 & 48 & 0 & 4 & 138 & 214 & 0 & 0 & 108 & 1 & 1.5 &  2 & -9 & -9 & 3\\\\\n",
       "\t5 & 54 & 1 & 3 & 150 &  -9 & 0 & 0 & 122 & 0 & 0.0 & -9 & -9 & -9 & 0\\\\\n",
       "\t6 & 39 & 1 & 3 & 120 & 339 & 0 & 0 & 170 & 0 & 0.0 & -9 & -9 & -9 & 0\\\\\n",
       "\\end{tabular}\n"
      ],
      "text/markdown": [
       "\n",
       "A data.frame: 6 × 14\n",
       "\n",
       "| <!--/--> | age &lt;int&gt; | sex &lt;int&gt; | cp &lt;int&gt; | trestbps &lt;int&gt; | chol &lt;int&gt; | fbs &lt;int&gt; | restecg &lt;int&gt; | thalach &lt;int&gt; | exang &lt;int&gt; | oldpeak &lt;dbl&gt; | slope &lt;int&gt; | ca &lt;int&gt; | thal &lt;int&gt; | num &lt;int&gt; |\n",
       "|---|---|---|---|---|---|---|---|---|---|---|---|---|---|---|\n",
       "| 1 | 40 | 1 | 2 | 140 | 289 | 0 | 0 | 172 | 0 | 0.0 | -9 | -9 | -9 | 0 |\n",
       "| 2 | 49 | 0 | 3 | 160 | 180 | 0 | 0 | 156 | 0 | 1.0 |  2 | -9 | -9 | 1 |\n",
       "| 3 | 37 | 1 | 2 | 130 | 283 | 0 | 1 |  98 | 0 | 0.0 | -9 | -9 | -9 | 0 |\n",
       "| 4 | 48 | 0 | 4 | 138 | 214 | 0 | 0 | 108 | 1 | 1.5 |  2 | -9 | -9 | 3 |\n",
       "| 5 | 54 | 1 | 3 | 150 |  -9 | 0 | 0 | 122 | 0 | 0.0 | -9 | -9 | -9 | 0 |\n",
       "| 6 | 39 | 1 | 3 | 120 | 339 | 0 | 0 | 170 | 0 | 0.0 | -9 | -9 | -9 | 0 |\n",
       "\n"
      ],
      "text/plain": [
       "  age sex cp trestbps chol fbs restecg thalach exang oldpeak slope ca thal num\n",
       "1 40  1   2  140      289  0   0       172     0     0.0     -9    -9 -9   0  \n",
       "2 49  0   3  160      180  0   0       156     0     1.0      2    -9 -9   1  \n",
       "3 37  1   2  130      283  0   1        98     0     0.0     -9    -9 -9   0  \n",
       "4 48  0   4  138      214  0   0       108     1     1.5      2    -9 -9   3  \n",
       "5 54  1   3  150       -9  0   0       122     0     0.0     -9    -9 -9   0  \n",
       "6 39  1   3  120      339  0   0       170     0     0.0     -9    -9 -9   0  "
      ]
     },
     "metadata": {},
     "output_type": "display_data"
    }
   ],
   "source": [
    "# reading the data from the URl and assigning column names\n",
    "\n",
    "url <- \"https://raw.githubusercontent.com/ANGUO17/dsci-100-2023w2-group-06/main/heart%2Bdisease/reprocessed.hungarian.data\"\n",
    "\n",
    "data <- read.table(url) \n",
    "           \n",
    "colnames(data) <- c(\"age\", \"sex\", \"cp\", \"trestbps\", \"chol\" , \"fbs\", \n",
    "                    \"restecg\", \"thalach\", \"exang\", \"oldpeak\", \"slope\", \"ca\",\n",
    "                    \"thal\", \"num\")\n",
    "\n",
    "\n",
    "\n",
    "#Age; sex; chest pain type (angina, abnang, notang, asympt)\n",
    "#%  Trestbps (resting blood pres); cholesteral; fasting blood sugar < 120\n",
    "#%  (true or false); resting ecg (norm, abn, hyper); max heart rate; \n",
    "#%  exercise induced angina (true or false); oldpeak; slope (up, flat, down)\n",
    "#%  number of vessels colored (???); thal (norm, fixed, rever). Finally, the\n",
    "#%  class is either healthy (buff) or with heart-disease (sick).\n",
    "    \n",
    "head(data)"
   ]
  },
  {
   "cell_type": "code",
   "execution_count": 91,
   "id": "234d3c16-8ce4-481e-a7d0-139fabcdcfcf",
   "metadata": {},
   "outputs": [
    {
     "data": {
      "text/html": [
       "<table class=\"dataframe\">\n",
       "<caption>A data.frame: 6 × 4</caption>\n",
       "<thead>\n",
       "\t<tr><th></th><th scope=col>age</th><th scope=col>sex</th><th scope=col>chol</th><th scope=col>diagnosis</th></tr>\n",
       "\t<tr><th></th><th scope=col>&lt;dbl&gt;</th><th scope=col>&lt;fct&gt;</th><th scope=col>&lt;dbl&gt;</th><th scope=col>&lt;fct&gt;</th></tr>\n",
       "</thead>\n",
       "<tbody>\n",
       "\t<tr><th scope=row>1</th><td>40</td><td>male  </td><td>289</td><td>Healthy</td></tr>\n",
       "\t<tr><th scope=row>2</th><td>49</td><td>female</td><td>180</td><td>Sick   </td></tr>\n",
       "\t<tr><th scope=row>3</th><td>37</td><td>male  </td><td>283</td><td>Healthy</td></tr>\n",
       "\t<tr><th scope=row>4</th><td>48</td><td>female</td><td>214</td><td>Sick   </td></tr>\n",
       "\t<tr><th scope=row>5</th><td>54</td><td>male  </td><td> -9</td><td>Healthy</td></tr>\n",
       "\t<tr><th scope=row>6</th><td>39</td><td>male  </td><td>339</td><td>Healthy</td></tr>\n",
       "</tbody>\n",
       "</table>\n"
      ],
      "text/latex": [
       "A data.frame: 6 × 4\n",
       "\\begin{tabular}{r|llll}\n",
       "  & age & sex & chol & diagnosis\\\\\n",
       "  & <dbl> & <fct> & <dbl> & <fct>\\\\\n",
       "\\hline\n",
       "\t1 & 40 & male   & 289 & Healthy\\\\\n",
       "\t2 & 49 & female & 180 & Sick   \\\\\n",
       "\t3 & 37 & male   & 283 & Healthy\\\\\n",
       "\t4 & 48 & female & 214 & Sick   \\\\\n",
       "\t5 & 54 & male   &  -9 & Healthy\\\\\n",
       "\t6 & 39 & male   & 339 & Healthy\\\\\n",
       "\\end{tabular}\n"
      ],
      "text/markdown": [
       "\n",
       "A data.frame: 6 × 4\n",
       "\n",
       "| <!--/--> | age &lt;dbl&gt; | sex &lt;fct&gt; | chol &lt;dbl&gt; | diagnosis &lt;fct&gt; |\n",
       "|---|---|---|---|---|\n",
       "| 1 | 40 | male   | 289 | Healthy |\n",
       "| 2 | 49 | female | 180 | Sick    |\n",
       "| 3 | 37 | male   | 283 | Healthy |\n",
       "| 4 | 48 | female | 214 | Sick    |\n",
       "| 5 | 54 | male   |  -9 | Healthy |\n",
       "| 6 | 39 | male   | 339 | Healthy |\n",
       "\n"
      ],
      "text/plain": [
       "  age sex    chol diagnosis\n",
       "1 40  male   289  Healthy  \n",
       "2 49  female 180  Sick     \n",
       "3 37  male   283  Healthy  \n",
       "4 48  female 214  Sick     \n",
       "5 54  male    -9  Healthy  \n",
       "6 39  male   339  Healthy  "
      ]
     },
     "metadata": {},
     "output_type": "display_data"
    }
   ],
   "source": [
    "#3 age: age in years\n",
    "#4 sex: sex (1 = male; 0 = female)\n",
    "#9 cp: chest pain type\n",
    "        #-- Value 1: typical angina\n",
    "       # -- Value 2: atypical angina\n",
    "        #-- Value 3: non-anginal pain\n",
    "       # -- Value 4: asymptomatic\n",
    "#10 trestbps: resting blood pressure (in mm Hg on admission to the hospital)\n",
    "#12 chol: serum cholestoral in mg/dl\n",
    "#16 fbs: (fasting blood sugar > 120 mg/dl)  (1 = true; 0 = false)\n",
    "#19 restecg: resting electrocardiographic results\n",
    "       # -- Value 0: normal\n",
    "       # -- Value 1: having ST-T wave abnormality (T wave inversions and/or ST elevation or depression of > 0.05 mV)\n",
    "       # -- Value 2: showing probable or definite left ventricular hypertrophy by Estes' criteria\n",
    "#32 thalach: maximum heart rate achieved\n",
    "#38 exang: exercise induced angina (1 = yes; 0 = no)\n",
    "#40 oldpeak = ST depression induced by exercise relative to rest\n",
    "#41 slope: the slope of the peak exercise ST segment\n",
    "        #-- Value 1: upsloping\n",
    "        #-- Value 2: flat\n",
    "        #-- Value 3: downsloping\n",
    "#44 ca: number of major vessels (0-3) colored by flourosopy\n",
    "#51 thal: 3 = normal; 6 = fixed defect; 7 = reversable defect\n",
    "#58 num: diagnosis of heart disease (angiographic disease status)\n",
    "       # -- Value 0: < 50% diameter narrowing\n",
    "        #-- Value 1: > 50% diameter narrowing\n",
    "        #(in any major vessel: attributes 59 through 68 are vessels)\n",
    "\n",
    "\n",
    "#Wrangling data\n",
    "data_processed <- data |>\n",
    "    mutate(age = as.numeric(age)) |>\n",
    "    mutate(trestbps = as.numeric(trestbps)) |>\n",
    "    mutate(chol = as.numeric(chol)) |>\n",
    "    mutate(thalach = as.numeric(thalach)) |>\n",
    "    mutate(sex = as_factor(sex)) |>\n",
    "    mutate(sex = fct_recode(sex, \"male\" = \"1\", \"female\" = \"0\")) |>\n",
    "    mutate(cp = as_factor(cp)) |>\n",
    "    mutate(cp = fct_recode(cp, \"typical angina\" = \"1\", \"atypical angina\" = \"2\", \n",
    "                                        \"non-anginal pain\" = \"3\" , \"asymptomatic\" = \"4\" )) |>\n",
    "    mutate(fbs = as_factor(fbs)) |>\n",
    "    mutate(fbs = fct_recode(fbs, \"true\" = \"1\", \"false\" = \"0\" )) |>\n",
    "    mutate(restecg = as_factor(restecg)) |>\n",
    "    mutate(restecg = fct_recode(restecg, \"normal\" = \"0\", \"abnormal\" = \"1\" )) |>\n",
    "    mutate(exang = as_factor(exang)) |>\n",
    "    mutate(exang = fct_recode(exang, \"yes\" = \"1\", \"no\" = \"0\" )) |>\n",
    "    mutate(slope = as_factor(slope)) |>\n",
    "    mutate(slope = fct_recode(slope, \"upsloping\" = \"1\", \"flat\" = \"2\", \"downsloping\" = \"3\")) |>\n",
    "    mutate(thal = as_factor(thal)) |>\n",
    "    mutate(thal = fct_recode(thal, \"normal\" = \"3\", \"fixed defect\" = \"6\", \"reversable defect\" = \"7\" )) |>\n",
    "    mutate(diagnosis = as_factor(num)) |>\n",
    "    mutate(diagnosis = fct_recode(diagnosis, \"Sick\" = \"1\",\"Sick\" = \"2\" ,\"Sick\" = \"3\",\"Sick\" = \"4\", \"Healthy\" = \"0\" )) |>\n",
    "\n",
    "    select(age, sex, chol, diagnosis)\n",
    "\n",
    "\n",
    "    \n",
    "\n",
    "\n",
    "head(data_processed)"
   ]
  },
  {
   "cell_type": "markdown",
   "id": "dbbbce48-930d-46f7-a6ec-c3c1c52f5683",
   "metadata": {},
   "source": [
    "#### Spliting the data into training and testing sets "
   ]
  },
  {
   "cell_type": "code",
   "execution_count": 92,
   "id": "1d5c704b-bcbf-48ae-9d5e-9b73bfe9a511",
   "metadata": {},
   "outputs": [
    {
     "data": {
      "text/html": [
       "<table class=\"dataframe\">\n",
       "<caption>A data.frame: 6 × 4</caption>\n",
       "<thead>\n",
       "\t<tr><th></th><th scope=col>age</th><th scope=col>sex</th><th scope=col>chol</th><th scope=col>diagnosis</th></tr>\n",
       "\t<tr><th></th><th scope=col>&lt;dbl&gt;</th><th scope=col>&lt;fct&gt;</th><th scope=col>&lt;dbl&gt;</th><th scope=col>&lt;fct&gt;</th></tr>\n",
       "</thead>\n",
       "<tbody>\n",
       "\t<tr><th scope=row>1</th><td>40</td><td>male  </td><td>289</td><td>Healthy</td></tr>\n",
       "\t<tr><th scope=row>2</th><td>54</td><td>male  </td><td> -9</td><td>Healthy</td></tr>\n",
       "\t<tr><th scope=row>3</th><td>39</td><td>male  </td><td>339</td><td>Healthy</td></tr>\n",
       "\t<tr><th scope=row>4</th><td>48</td><td>female</td><td>284</td><td>Healthy</td></tr>\n",
       "\t<tr><th scope=row>5</th><td>37</td><td>female</td><td>211</td><td>Healthy</td></tr>\n",
       "\t<tr><th scope=row>6</th><td>39</td><td>male  </td><td>204</td><td>Healthy</td></tr>\n",
       "</tbody>\n",
       "</table>\n"
      ],
      "text/latex": [
       "A data.frame: 6 × 4\n",
       "\\begin{tabular}{r|llll}\n",
       "  & age & sex & chol & diagnosis\\\\\n",
       "  & <dbl> & <fct> & <dbl> & <fct>\\\\\n",
       "\\hline\n",
       "\t1 & 40 & male   & 289 & Healthy\\\\\n",
       "\t2 & 54 & male   &  -9 & Healthy\\\\\n",
       "\t3 & 39 & male   & 339 & Healthy\\\\\n",
       "\t4 & 48 & female & 284 & Healthy\\\\\n",
       "\t5 & 37 & female & 211 & Healthy\\\\\n",
       "\t6 & 39 & male   & 204 & Healthy\\\\\n",
       "\\end{tabular}\n"
      ],
      "text/markdown": [
       "\n",
       "A data.frame: 6 × 4\n",
       "\n",
       "| <!--/--> | age &lt;dbl&gt; | sex &lt;fct&gt; | chol &lt;dbl&gt; | diagnosis &lt;fct&gt; |\n",
       "|---|---|---|---|---|\n",
       "| 1 | 40 | male   | 289 | Healthy |\n",
       "| 2 | 54 | male   |  -9 | Healthy |\n",
       "| 3 | 39 | male   | 339 | Healthy |\n",
       "| 4 | 48 | female | 284 | Healthy |\n",
       "| 5 | 37 | female | 211 | Healthy |\n",
       "| 6 | 39 | male   | 204 | Healthy |\n",
       "\n"
      ],
      "text/plain": [
       "  age sex    chol diagnosis\n",
       "1 40  male   289  Healthy  \n",
       "2 54  male    -9  Healthy  \n",
       "3 39  male   339  Healthy  \n",
       "4 48  female 284  Healthy  \n",
       "5 37  female 211  Healthy  \n",
       "6 39  male   204  Healthy  "
      ]
     },
     "metadata": {},
     "output_type": "display_data"
    },
    {
     "data": {
      "text/html": [
       "<table class=\"dataframe\">\n",
       "<caption>A data.frame: 6 × 4</caption>\n",
       "<thead>\n",
       "\t<tr><th></th><th scope=col>age</th><th scope=col>sex</th><th scope=col>chol</th><th scope=col>diagnosis</th></tr>\n",
       "\t<tr><th></th><th scope=col>&lt;dbl&gt;</th><th scope=col>&lt;fct&gt;</th><th scope=col>&lt;dbl&gt;</th><th scope=col>&lt;fct&gt;</th></tr>\n",
       "</thead>\n",
       "<tbody>\n",
       "\t<tr><th scope=row>1</th><td>37</td><td>male  </td><td>283</td><td>Healthy</td></tr>\n",
       "\t<tr><th scope=row>2</th><td>45</td><td>female</td><td>237</td><td>Healthy</td></tr>\n",
       "\t<tr><th scope=row>3</th><td>54</td><td>male  </td><td>208</td><td>Healthy</td></tr>\n",
       "\t<tr><th scope=row>4</th><td>38</td><td>male  </td><td>196</td><td>Sick   </td></tr>\n",
       "\t<tr><th scope=row>5</th><td>44</td><td>male  </td><td>184</td><td>Healthy</td></tr>\n",
       "\t<tr><th scope=row>6</th><td>44</td><td>male  </td><td>288</td><td>Sick   </td></tr>\n",
       "</tbody>\n",
       "</table>\n"
      ],
      "text/latex": [
       "A data.frame: 6 × 4\n",
       "\\begin{tabular}{r|llll}\n",
       "  & age & sex & chol & diagnosis\\\\\n",
       "  & <dbl> & <fct> & <dbl> & <fct>\\\\\n",
       "\\hline\n",
       "\t1 & 37 & male   & 283 & Healthy\\\\\n",
       "\t2 & 45 & female & 237 & Healthy\\\\\n",
       "\t3 & 54 & male   & 208 & Healthy\\\\\n",
       "\t4 & 38 & male   & 196 & Sick   \\\\\n",
       "\t5 & 44 & male   & 184 & Healthy\\\\\n",
       "\t6 & 44 & male   & 288 & Sick   \\\\\n",
       "\\end{tabular}\n"
      ],
      "text/markdown": [
       "\n",
       "A data.frame: 6 × 4\n",
       "\n",
       "| <!--/--> | age &lt;dbl&gt; | sex &lt;fct&gt; | chol &lt;dbl&gt; | diagnosis &lt;fct&gt; |\n",
       "|---|---|---|---|---|\n",
       "| 1 | 37 | male   | 283 | Healthy |\n",
       "| 2 | 45 | female | 237 | Healthy |\n",
       "| 3 | 54 | male   | 208 | Healthy |\n",
       "| 4 | 38 | male   | 196 | Sick    |\n",
       "| 5 | 44 | male   | 184 | Healthy |\n",
       "| 6 | 44 | male   | 288 | Sick    |\n",
       "\n"
      ],
      "text/plain": [
       "  age sex    chol diagnosis\n",
       "1 37  male   283  Healthy  \n",
       "2 45  female 237  Healthy  \n",
       "3 54  male   208  Healthy  \n",
       "4 38  male   196  Sick     \n",
       "5 44  male   184  Healthy  \n",
       "6 44  male   288  Sick     "
      ]
     },
     "metadata": {},
     "output_type": "display_data"
    }
   ],
   "source": [
    "#spliting the data\n",
    "data_split <- initial_split(data_processed, prop = 0.75, strata = diagnosis)  \n",
    "\n",
    "data_training <- training(data_split)\n",
    "\n",
    "data_testing <- testing(data_split)\n",
    "\n",
    "head(data_training)\n",
    "head(data_testing)\n"
   ]
  },
  {
   "cell_type": "markdown",
   "id": "216530c3-15df-4045-b145-181aa647ed32",
   "metadata": {},
   "source": [
    "#### Summary"
   ]
  },
  {
   "cell_type": "code",
   "execution_count": 93,
   "id": "b4192150-7932-4bc3-a374-9787fc23d35c",
   "metadata": {},
   "outputs": [
    {
     "name": "stderr",
     "output_type": "stream",
     "text": [
      "\u001b[1m\u001b[22m`summarise()` has grouped output by 'diagnosis'. You can override using the\n",
      "`.groups` argument.\n"
     ]
    },
    {
     "data": {
      "text/html": [
       "<table class=\"dataframe\">\n",
       "<caption>A grouped_df: 4 × 5</caption>\n",
       "<thead>\n",
       "\t<tr><th scope=col>diagnosis</th><th scope=col>sex</th><th scope=col>mean_age</th><th scope=col>mean_chol</th><th scope=col>count</th></tr>\n",
       "\t<tr><th scope=col>&lt;fct&gt;</th><th scope=col>&lt;fct&gt;</th><th scope=col>&lt;dbl&gt;</th><th scope=col>&lt;dbl&gt;</th><th scope=col>&lt;int&gt;</th></tr>\n",
       "</thead>\n",
       "<tbody>\n",
       "\t<tr><td>Healthy</td><td>female</td><td>46.85714</td><td>215.5357</td><td>56</td></tr>\n",
       "\t<tr><td>Healthy</td><td>male  </td><td>46.64706</td><td>218.6000</td><td>85</td></tr>\n",
       "\t<tr><td>Sick   </td><td>female</td><td>52.44444</td><td>281.8889</td><td> 9</td></tr>\n",
       "\t<tr><td>Sick   </td><td>male  </td><td>49.05714</td><td>253.1143</td><td>70</td></tr>\n",
       "</tbody>\n",
       "</table>\n"
      ],
      "text/latex": [
       "A grouped\\_df: 4 × 5\n",
       "\\begin{tabular}{lllll}\n",
       " diagnosis & sex & mean\\_age & mean\\_chol & count\\\\\n",
       " <fct> & <fct> & <dbl> & <dbl> & <int>\\\\\n",
       "\\hline\n",
       "\t Healthy & female & 46.85714 & 215.5357 & 56\\\\\n",
       "\t Healthy & male   & 46.64706 & 218.6000 & 85\\\\\n",
       "\t Sick    & female & 52.44444 & 281.8889 &  9\\\\\n",
       "\t Sick    & male   & 49.05714 & 253.1143 & 70\\\\\n",
       "\\end{tabular}\n"
      ],
      "text/markdown": [
       "\n",
       "A grouped_df: 4 × 5\n",
       "\n",
       "| diagnosis &lt;fct&gt; | sex &lt;fct&gt; | mean_age &lt;dbl&gt; | mean_chol &lt;dbl&gt; | count &lt;int&gt; |\n",
       "|---|---|---|---|---|\n",
       "| Healthy | female | 46.85714 | 215.5357 | 56 |\n",
       "| Healthy | male   | 46.64706 | 218.6000 | 85 |\n",
       "| Sick    | female | 52.44444 | 281.8889 |  9 |\n",
       "| Sick    | male   | 49.05714 | 253.1143 | 70 |\n",
       "\n"
      ],
      "text/plain": [
       "  diagnosis sex    mean_age mean_chol count\n",
       "1 Healthy   female 46.85714 215.5357  56   \n",
       "2 Healthy   male   46.64706 218.6000  85   \n",
       "3 Sick      female 52.44444 281.8889   9   \n",
       "4 Sick      male   49.05714 253.1143  70   "
      ]
     },
     "metadata": {},
     "output_type": "display_data"
    }
   ],
   "source": [
    "#summarizing the data\n",
    "data_summarized <- data_training |>\n",
    "    group_by(diagnosis, sex) |>\n",
    "    summarize(mean_age = mean(age),\n",
    "              mean_chol = mean(chol),\n",
    "              count = n())\n",
    "\n",
    "data_summarized"
   ]
  },
  {
   "cell_type": "markdown",
   "id": "5d63313f-1de0-41c4-afa1-2e12103563cc",
   "metadata": {},
   "source": [
    "## Method"
   ]
  },
  {
   "cell_type": "markdown",
   "id": "7a3ff214-641d-49a9-935c-70bdec3eebda",
   "metadata": {},
   "source": [
    "## Expected Outcomes and Significance"
   ]
  },
  {
   "cell_type": "markdown",
   "id": "97c67087-089f-443f-9d20-c427ef295cf7",
   "metadata": {},
   "source": [
    "We expect to find a higher rate of heart disease in older individuals, with men having a higher likelihood than women.\n",
    "\n",
    "By considering both age and sex, healthcare providers can better assess a person's overall risk profile and tailor preventive measures and treatment strategies accordingly. This can lead to a more targeted screening process, with earlier intervention programs for older men and women. Additionally, more information can be distributed to the demographic it would benefit most.\n",
    "\n",
    "These results could lead researchers to ask questions about why age and sex play such a big role in predicting heart disease by exploring the role of things such as hormones, lifestyle factors, and genetic predispositions. Studies could also find the effectiveness of targeting specific groups in preventative measures in order to reduce the risk of heart disease, compared to general population based approaches.\n"
   ]
  },
  {
   "cell_type": "markdown",
   "id": "c6d57d43-d4e6-40cf-ba4f-c10618a8681d",
   "metadata": {},
   "source": [
    "## Bibliography"
   ]
  },
  {
   "cell_type": "markdown",
   "id": "840092d7-408c-413a-bdce-7cb8d68b1172",
   "metadata": {},
   "source": [
    "1. Centers for Disease Control and Prevention. (n.d.). Centers for Disease Control and Prevention. https://www.cdc.gov/index.htm\n",
    "   \n",
    "3. Jousilahti, P., Vartiainen, E., Tuomilehto, J., & Puska, P. (1999). Sex, age, cardiovascular risk factors, and coronary heart disease. Circulation, 99(9), 1165–1172. https://doi.org/10.1161/01.cir.99.9.1165\n"
   ]
  },
  {
   "cell_type": "code",
   "execution_count": null,
   "id": "517a829b-8c93-4361-a5fc-5b586724f3b5",
   "metadata": {},
   "outputs": [],
   "source": []
  }
 ],
 "metadata": {
  "kernelspec": {
   "display_name": "R",
   "language": "R",
   "name": "ir"
  },
  "language_info": {
   "codemirror_mode": "r",
   "file_extension": ".r",
   "mimetype": "text/x-r-source",
   "name": "R",
   "pygments_lexer": "r",
   "version": "4.3.1"
  }
 },
 "nbformat": 4,
 "nbformat_minor": 5
}
