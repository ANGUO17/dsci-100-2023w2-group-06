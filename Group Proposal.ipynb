{
 "cells": [
  {
   "cell_type": "markdown",
   "id": "a56eccab-6d45-4afa-8da6-0146b53b49ff",
   "metadata": {},
   "source": [
    "# Use age and sex to determine the presence of heart disease in patients of Hungary."
   ]
  },
  {
   "cell_type": "markdown",
   "id": "eccac296-2b81-425b-acb9-537dd96d75c2",
   "metadata": {},
   "source": [
    "### Introduction\n",
    "\n",
    "\n",
    "\r\n",
    "Provide some relevant background information on the topic so that someone unfamiliar with it will be prepared to understand the rest of your proposal\r\n",
    "Clearly state the question you will try to answer with your project\r\n",
    "Identify and describe the dataset that will be used to answer the ques\n",
    "\n",
    "tion\r\n",
    "Preliminary exploratory data analysis:\r\n",
    "Demonstrate that the dataset can be read from the web into R \r\n",
    "Clean and wrangle your data into a tidy format\r\n",
    "Using only training data, summarize the data in at least one table (this is exploratory data analysis). An example of a useful table could be one that reports the number of observations in each class, the means of the predictor variables you plan to use in your analysis and how many rows have missing data. \r\n",
    "Using only training data, visualize the data with at least one plot relevant to the analysis you plan to do (this is exploratory data analysis). An example of a useful visualization could be one that compares the distributions of each of the predictor variables you plan to use in your \n",
    "\n",
    "\n",
    "analysis.\r\n",
    "Methods:\r\n",
    "Explain how you will conduct either your data analysis and which variables/columns you will use. Note - you do not need to use all variables/columns that exist in the raw data set. In fact, that's often not a good idea. For each variable think: is this a useful variable for prediction?\r\n",
    "Describe at least one way that you will visualize\n",
    "\n",
    " the results\r\n",
    "Expected outcomes and significance:\r\n",
    "What do you expect to find?\r\n",
    "What impact could such findings have?\r\n",
    "What future questions could this lead to?"
   ]
  },
  {
   "cell_type": "markdown",
   "id": "88bba867-4db0-4429-aaf0-73e9576e8bd5",
   "metadata": {},
   "source": [
    "### Introduction: \n",
    "\n",
    "Heart disease refers to a range of conditions that affect the heart and the term is often used interchangeably with \"cardiovascular disease,\" which generally refers to conditions that involve narrowed or blocked blood vessels that can lead to a heart attack. Heart disease is also a leading cause of death globally, one in five deaths in the U.S. is caused by heart disease and heart disease cost the U.S. 239.9 billion dollars each year. There are many risk factors that directly associates with the presence of heart diease in patients, such as age and sex. With that said, the goal for us today is to classify patients with or without heart disease by distinguishing the likelihood using the risk factors. The dataset we will be using to perform this process on will be the 1988 Hungary Heart Disease database. "
   ]
  },
  {
   "cell_type": "code",
   "execution_count": 24,
   "id": "9e3797d8-a939-4762-b550-be9d8de20844",
   "metadata": {},
   "outputs": [],
   "source": [
    "library(tidyverse)\n",
    "library(repr)\n",
    "library(tidymodels)\n",
    "library(RColorBrewer)\n",
    "options(repr.matrix.max.rows = 6)"
   ]
  },
  {
   "cell_type": "code",
   "execution_count": 14,
   "id": "f870f96d-3279-476c-87e3-90430b9c523d",
   "metadata": {},
   "outputs": [
    {
     "data": {
      "text/html": [
       "<table class=\"dataframe\">\n",
       "<caption>A data.frame: 6 × 14</caption>\n",
       "<thead>\n",
       "\t<tr><th></th><th scope=col>age</th><th scope=col>sex</th><th scope=col>cp</th><th scope=col>trestbps</th><th scope=col>chol</th><th scope=col>fbs</th><th scope=col>restecg</th><th scope=col>thalach</th><th scope=col>exang</th><th scope=col>oldpeak</th><th scope=col>slope</th><th scope=col>ca</th><th scope=col>thal</th><th scope=col>num</th></tr>\n",
       "\t<tr><th></th><th scope=col>&lt;int&gt;</th><th scope=col>&lt;int&gt;</th><th scope=col>&lt;int&gt;</th><th scope=col>&lt;int&gt;</th><th scope=col>&lt;int&gt;</th><th scope=col>&lt;int&gt;</th><th scope=col>&lt;int&gt;</th><th scope=col>&lt;int&gt;</th><th scope=col>&lt;int&gt;</th><th scope=col>&lt;dbl&gt;</th><th scope=col>&lt;int&gt;</th><th scope=col>&lt;int&gt;</th><th scope=col>&lt;int&gt;</th><th scope=col>&lt;int&gt;</th></tr>\n",
       "</thead>\n",
       "<tbody>\n",
       "\t<tr><th scope=row>1</th><td>40</td><td>1</td><td>2</td><td>140</td><td>289</td><td>0</td><td>0</td><td>172</td><td>0</td><td>0.0</td><td>-9</td><td>-9</td><td>-9</td><td>0</td></tr>\n",
       "\t<tr><th scope=row>2</th><td>49</td><td>0</td><td>3</td><td>160</td><td>180</td><td>0</td><td>0</td><td>156</td><td>0</td><td>1.0</td><td> 2</td><td>-9</td><td>-9</td><td>1</td></tr>\n",
       "\t<tr><th scope=row>3</th><td>37</td><td>1</td><td>2</td><td>130</td><td>283</td><td>0</td><td>1</td><td> 98</td><td>0</td><td>0.0</td><td>-9</td><td>-9</td><td>-9</td><td>0</td></tr>\n",
       "\t<tr><th scope=row>4</th><td>48</td><td>0</td><td>4</td><td>138</td><td>214</td><td>0</td><td>0</td><td>108</td><td>1</td><td>1.5</td><td> 2</td><td>-9</td><td>-9</td><td>3</td></tr>\n",
       "\t<tr><th scope=row>5</th><td>54</td><td>1</td><td>3</td><td>150</td><td> -9</td><td>0</td><td>0</td><td>122</td><td>0</td><td>0.0</td><td>-9</td><td>-9</td><td>-9</td><td>0</td></tr>\n",
       "\t<tr><th scope=row>6</th><td>39</td><td>1</td><td>3</td><td>120</td><td>339</td><td>0</td><td>0</td><td>170</td><td>0</td><td>0.0</td><td>-9</td><td>-9</td><td>-9</td><td>0</td></tr>\n",
       "</tbody>\n",
       "</table>\n"
      ],
      "text/latex": [
       "A data.frame: 6 × 14\n",
       "\\begin{tabular}{r|llllllllllllll}\n",
       "  & age & sex & cp & trestbps & chol & fbs & restecg & thalach & exang & oldpeak & slope & ca & thal & num\\\\\n",
       "  & <int> & <int> & <int> & <int> & <int> & <int> & <int> & <int> & <int> & <dbl> & <int> & <int> & <int> & <int>\\\\\n",
       "\\hline\n",
       "\t1 & 40 & 1 & 2 & 140 & 289 & 0 & 0 & 172 & 0 & 0.0 & -9 & -9 & -9 & 0\\\\\n",
       "\t2 & 49 & 0 & 3 & 160 & 180 & 0 & 0 & 156 & 0 & 1.0 &  2 & -9 & -9 & 1\\\\\n",
       "\t3 & 37 & 1 & 2 & 130 & 283 & 0 & 1 &  98 & 0 & 0.0 & -9 & -9 & -9 & 0\\\\\n",
       "\t4 & 48 & 0 & 4 & 138 & 214 & 0 & 0 & 108 & 1 & 1.5 &  2 & -9 & -9 & 3\\\\\n",
       "\t5 & 54 & 1 & 3 & 150 &  -9 & 0 & 0 & 122 & 0 & 0.0 & -9 & -9 & -9 & 0\\\\\n",
       "\t6 & 39 & 1 & 3 & 120 & 339 & 0 & 0 & 170 & 0 & 0.0 & -9 & -9 & -9 & 0\\\\\n",
       "\\end{tabular}\n"
      ],
      "text/markdown": [
       "\n",
       "A data.frame: 6 × 14\n",
       "\n",
       "| <!--/--> | age &lt;int&gt; | sex &lt;int&gt; | cp &lt;int&gt; | trestbps &lt;int&gt; | chol &lt;int&gt; | fbs &lt;int&gt; | restecg &lt;int&gt; | thalach &lt;int&gt; | exang &lt;int&gt; | oldpeak &lt;dbl&gt; | slope &lt;int&gt; | ca &lt;int&gt; | thal &lt;int&gt; | num &lt;int&gt; |\n",
       "|---|---|---|---|---|---|---|---|---|---|---|---|---|---|---|\n",
       "| 1 | 40 | 1 | 2 | 140 | 289 | 0 | 0 | 172 | 0 | 0.0 | -9 | -9 | -9 | 0 |\n",
       "| 2 | 49 | 0 | 3 | 160 | 180 | 0 | 0 | 156 | 0 | 1.0 |  2 | -9 | -9 | 1 |\n",
       "| 3 | 37 | 1 | 2 | 130 | 283 | 0 | 1 |  98 | 0 | 0.0 | -9 | -9 | -9 | 0 |\n",
       "| 4 | 48 | 0 | 4 | 138 | 214 | 0 | 0 | 108 | 1 | 1.5 |  2 | -9 | -9 | 3 |\n",
       "| 5 | 54 | 1 | 3 | 150 |  -9 | 0 | 0 | 122 | 0 | 0.0 | -9 | -9 | -9 | 0 |\n",
       "| 6 | 39 | 1 | 3 | 120 | 339 | 0 | 0 | 170 | 0 | 0.0 | -9 | -9 | -9 | 0 |\n",
       "\n"
      ],
      "text/plain": [
       "  age sex cp trestbps chol fbs restecg thalach exang oldpeak slope ca thal num\n",
       "1 40  1   2  140      289  0   0       172     0     0.0     -9    -9 -9   0  \n",
       "2 49  0   3  160      180  0   0       156     0     1.0      2    -9 -9   1  \n",
       "3 37  1   2  130      283  0   1        98     0     0.0     -9    -9 -9   0  \n",
       "4 48  0   4  138      214  0   0       108     1     1.5      2    -9 -9   3  \n",
       "5 54  1   3  150       -9  0   0       122     0     0.0     -9    -9 -9   0  \n",
       "6 39  1   3  120      339  0   0       170     0     0.0     -9    -9 -9   0  "
      ]
     },
     "metadata": {},
     "output_type": "display_data"
    }
   ],
   "source": [
    "# reading the data from the URl and assigning column names\n",
    "\n",
    "url <- \"https://raw.githubusercontent.com/ANGUO17/dsci-100-2023w2-group-06/main/heart%2Bdisease/reprocessed.hungarian.data\"\n",
    "\n",
    "data <- read.table(url)   \n",
    "colnames(data) <- c(\"age\", \"sex\", \"cp\", \"trestbps\", \"chol\" , \"fbs\", \n",
    "                    \"restecg\", \"thalach\", \"exang\", \"oldpeak\", \"slope\", \"ca\",\n",
    "                    \"thal\", \"num\")\n",
    "\n",
    "#Age; sex; chest pain type (angina, abnang, notang, asympt)\n",
    "#%  Trestbps (resting blood pres); cholesteral; fasting blood sugar < 120\n",
    "#%  (true or false); resting ecg (norm, abn, hyper); max heart rate; \n",
    "#%  exercise induced angina (true or false); oldpeak; slope (up, flat, down)\n",
    "#%  number of vessels colored (???); thal (norm, fixed, rever). Finally, the\n",
    "#%  class is either healthy (buff) or with heart-disease (sick).\n",
    "    \n",
    "head(data)\n",
    "\n",
    "\n"
   ]
  },
  {
   "cell_type": "code",
   "execution_count": 43,
   "id": "234d3c16-8ce4-481e-a7d0-139fabcdcfcf",
   "metadata": {},
   "outputs": [
    {
     "data": {
      "text/html": [
       "<table class=\"dataframe\">\n",
       "<caption>A data.frame: 6 × 4</caption>\n",
       "<thead>\n",
       "\t<tr><th></th><th scope=col>age</th><th scope=col>sex</th><th scope=col>chol</th><th scope=col>diagnosis</th></tr>\n",
       "\t<tr><th></th><th scope=col>&lt;int&gt;</th><th scope=col>&lt;fct&gt;</th><th scope=col>&lt;int&gt;</th><th scope=col>&lt;fct&gt;</th></tr>\n",
       "</thead>\n",
       "<tbody>\n",
       "\t<tr><th scope=row>1</th><td>40</td><td>male  </td><td>289</td><td>Healthy</td></tr>\n",
       "\t<tr><th scope=row>2</th><td>49</td><td>female</td><td>180</td><td>Sick   </td></tr>\n",
       "\t<tr><th scope=row>3</th><td>37</td><td>male  </td><td>283</td><td>Healthy</td></tr>\n",
       "\t<tr><th scope=row>4</th><td>48</td><td>female</td><td>214</td><td>Sick   </td></tr>\n",
       "\t<tr><th scope=row>5</th><td>54</td><td>male  </td><td> -9</td><td>Healthy</td></tr>\n",
       "\t<tr><th scope=row>6</th><td>39</td><td>male  </td><td>339</td><td>Healthy</td></tr>\n",
       "</tbody>\n",
       "</table>\n"
      ],
      "text/latex": [
       "A data.frame: 6 × 4\n",
       "\\begin{tabular}{r|llll}\n",
       "  & age & sex & chol & diagnosis\\\\\n",
       "  & <int> & <fct> & <int> & <fct>\\\\\n",
       "\\hline\n",
       "\t1 & 40 & male   & 289 & Healthy\\\\\n",
       "\t2 & 49 & female & 180 & Sick   \\\\\n",
       "\t3 & 37 & male   & 283 & Healthy\\\\\n",
       "\t4 & 48 & female & 214 & Sick   \\\\\n",
       "\t5 & 54 & male   &  -9 & Healthy\\\\\n",
       "\t6 & 39 & male   & 339 & Healthy\\\\\n",
       "\\end{tabular}\n"
      ],
      "text/markdown": [
       "\n",
       "A data.frame: 6 × 4\n",
       "\n",
       "| <!--/--> | age &lt;int&gt; | sex &lt;fct&gt; | chol &lt;int&gt; | diagnosis &lt;fct&gt; |\n",
       "|---|---|---|---|---|\n",
       "| 1 | 40 | male   | 289 | Healthy |\n",
       "| 2 | 49 | female | 180 | Sick    |\n",
       "| 3 | 37 | male   | 283 | Healthy |\n",
       "| 4 | 48 | female | 214 | Sick    |\n",
       "| 5 | 54 | male   |  -9 | Healthy |\n",
       "| 6 | 39 | male   | 339 | Healthy |\n",
       "\n"
      ],
      "text/plain": [
       "  age sex    chol diagnosis\n",
       "1 40  male   289  Healthy  \n",
       "2 49  female 180  Sick     \n",
       "3 37  male   283  Healthy  \n",
       "4 48  female 214  Sick     \n",
       "5 54  male    -9  Healthy  \n",
       "6 39  male   339  Healthy  "
      ]
     },
     "metadata": {},
     "output_type": "display_data"
    }
   ],
   "source": [
    "#3 age: age in years\n",
    "#4 sex: sex (1 = male; 0 = female)\n",
    "#9 cp: chest pain type\n",
    "        #-- Value 1: typical angina\n",
    "       # -- Value 2: atypical angina\n",
    "        #-- Value 3: non-anginal pain\n",
    "       # -- Value 4: asymptomatic\n",
    "#10 trestbps: resting blood pressure (in mm Hg on admission to the hospital)\n",
    "#12 chol: serum cholestoral in mg/dl\n",
    "#16 fbs: (fasting blood sugar > 120 mg/dl)  (1 = true; 0 = false)\n",
    "#19 restecg: resting electrocardiographic results\n",
    "       # -- Value 0: normal\n",
    "       # -- Value 1: having ST-T wave abnormality (T wave inversions and/or ST elevation or depression of > 0.05 mV)\n",
    "       # -- Value 2: showing probable or definite left ventricular hypertrophy by Estes' criteria\n",
    "#32 thalach: maximum heart rate achieved\n",
    "#38 exang: exercise induced angina (1 = yes; 0 = no)\n",
    "#40 oldpeak = ST depression induced by exercise relative to rest\n",
    "#41 slope: the slope of the peak exercise ST segment\n",
    "        #-- Value 1: upsloping\n",
    "        #-- Value 2: flat\n",
    "        #-- Value 3: downsloping\n",
    "#44 ca: number of major vessels (0-3) colored by flourosopy\n",
    "#51 thal: 3 = normal; 6 = fixed defect; 7 = reversable defect\n",
    "#58 num: diagnosis of heart disease (angiographic disease status)\n",
    "       # -- Value 0: < 50% diameter narrowing\n",
    "        #-- Value 1: > 50% diameter narrowing\n",
    "        #(in any major vessel: attributes 59 through 68 are vessels)\n",
    "\n",
    "\n",
    "#Wrangling data\n",
    "data_processed <- data |>\n",
    "    mutate(sex = as_factor(sex)) |>\n",
    "    mutate(sex = fct_recode(sex, \"male\" = \"1\", \"female\" = \"0\")) |>\n",
    "    mutate(cp = as_factor(cp)) |>\n",
    "    mutate(cp = fct_recode(cp, \"typical angina\" = \"1\", \"atypical angina\" = \"2\", \n",
    "                                        \"non-anginal pain\" = \"3\" , \"asymptomatic\" = \"4\")) |>\n",
    "    mutate(fbs = as_factor(fbs)) |>\n",
    "    mutate(fbs = fct_recode(fbs, \"true\" = \"1\", \"false\" = \"0\")) |>\n",
    "    mutate(restecg = as_factor(restecg)) |>\n",
    "    mutate(restecg = fct_recode(restecg, \"normal\" = \"0\", \"abnormal\" = \"1\")) |>\n",
    "    mutate(exang = as_factor(exang)) |>\n",
    "    mutate(exang = fct_recode(exang, \"yes\" = \"1\", \"no\" = \"0\")) |>\n",
    "    mutate(slope = as_factor(slope)) |>\n",
    "    mutate(slope = fct_recode(slope, \"upsloping\" = \"1\", \"flat\" = \"2\", \"downsloping\" = \"3\")) |>\n",
    "    mutate(thal = as_factor(thal)) |>\n",
    "    mutate(thal = fct_recode(thal, \"normal\" = \"3\", \"fixed defect\" = \"6\", \"reversable defect\" = \"7\")) |>\n",
    "    mutate(diagnosis = as_factor(num)) |>\n",
    "    mutate(diagnosis = fct_recode(diagnosis, \"Sick\" = \"1\",\"Sick\" = \"2\" ,\"Sick\" = \"3\",\"Sick\" = \"4\", \"Healthy\" = \"0\")) |>\n",
    "\n",
    "    select(age, sex, chol, diagnosis)\n",
    "\n",
    "\n",
    "    \n",
    "    \n",
    "\n",
    "\n",
    "head(data_processed)"
   ]
  },
  {
   "cell_type": "code",
   "execution_count": null,
   "id": "1d5c704b-bcbf-48ae-9d5e-9b73bfe9a511",
   "metadata": {},
   "outputs": [],
   "source": []
  }
 ],
 "metadata": {
  "kernelspec": {
   "display_name": "R",
   "language": "R",
   "name": "ir"
  },
  "language_info": {
   "codemirror_mode": "r",
   "file_extension": ".r",
   "mimetype": "text/x-r-source",
   "name": "R",
   "pygments_lexer": "r",
   "version": "4.3.1"
  }
 },
 "nbformat": 4,
 "nbformat_minor": 5
}
