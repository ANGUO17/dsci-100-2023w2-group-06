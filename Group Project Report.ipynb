{
 "cells": [
  {
   "cell_type": "markdown",
   "id": "d9b021cc-d5a0-4a95-ad8e-ea3d2fdf8174",
   "metadata": {},
   "source": [
    "# Using different attributes to determine the presence of heart disease in patients of Hungary"
   ]
  },
  {
   "cell_type": "markdown",
   "id": "c565a8e0-bf44-47cf-a580-71f664edbd90",
   "metadata": {},
   "source": [
    "# Introduction\n",
    "Heart disease, or cardiovascular disease, refers to conditions affecting the heart, often involving narrowed or blocked blood vessels that can lead to a heart attack. Both men and women face increased risk with age. High cholesterol can lead to fatty deposits in blood vessels, increasing the risk of blockages and heart attacks. Men tend to have a higher risk at a younger age compared to women. We aim to classify patients' likelihood of heart disease using age, sex, and cholesterol.\n",
    "\n",
    "Question: Which **demographic group** is most likely to have **heart disease** based on **age**, sex, and cholesterol factors?\n",
    "\n",
    "The dataset we will be using will be the Hungary Heart Disease database (“reprocessed. Hungarian.data”); a data set intended to determine the presence of heart disease in patients of Hungary. It contains data on 14 variables, including age, sex, etc. "
   ]
  },
  {
   "cell_type": "code",
   "execution_count": 3,
   "id": "44087449-2718-4b65-b5c4-82909b4372af",
   "metadata": {},
   "outputs": [
    {
     "name": "stderr",
     "output_type": "stream",
     "text": [
      "Warning message:\n",
      "“package ‘ggplot2’ was built under R version 4.3.2”\n",
      "── \u001b[1mAttaching core tidyverse packages\u001b[22m ──────────────────────── tidyverse 2.0.0 ──\n",
      "\u001b[32m✔\u001b[39m \u001b[34mdplyr    \u001b[39m 1.1.3     \u001b[32m✔\u001b[39m \u001b[34mreadr    \u001b[39m 2.1.4\n",
      "\u001b[32m✔\u001b[39m \u001b[34mforcats  \u001b[39m 1.0.0     \u001b[32m✔\u001b[39m \u001b[34mstringr  \u001b[39m 1.5.0\n",
      "\u001b[32m✔\u001b[39m \u001b[34mggplot2  \u001b[39m 3.5.0     \u001b[32m✔\u001b[39m \u001b[34mtibble   \u001b[39m 3.2.1\n",
      "\u001b[32m✔\u001b[39m \u001b[34mlubridate\u001b[39m 1.9.2     \u001b[32m✔\u001b[39m \u001b[34mtidyr    \u001b[39m 1.3.0\n",
      "\u001b[32m✔\u001b[39m \u001b[34mpurrr    \u001b[39m 1.0.2     \n",
      "── \u001b[1mConflicts\u001b[22m ────────────────────────────────────────── tidyverse_conflicts() ──\n",
      "\u001b[31m✖\u001b[39m \u001b[34mdplyr\u001b[39m::\u001b[32mfilter()\u001b[39m masks \u001b[34mstats\u001b[39m::filter()\n",
      "\u001b[31m✖\u001b[39m \u001b[34mdplyr\u001b[39m::\u001b[32mlag()\u001b[39m    masks \u001b[34mstats\u001b[39m::lag()\n",
      "\u001b[36mℹ\u001b[39m Use the conflicted package (\u001b[3m\u001b[34m<http://conflicted.r-lib.org/>\u001b[39m\u001b[23m) to force all conflicts to become errors\n",
      "── \u001b[1mAttaching packages\u001b[22m ────────────────────────────────────── tidymodels 1.1.1 ──\n",
      "\n",
      "\u001b[32m✔\u001b[39m \u001b[34mbroom       \u001b[39m 1.0.5     \u001b[32m✔\u001b[39m \u001b[34mrsample     \u001b[39m 1.2.0\n",
      "\u001b[32m✔\u001b[39m \u001b[34mdials       \u001b[39m 1.2.0     \u001b[32m✔\u001b[39m \u001b[34mtune        \u001b[39m 1.1.2\n",
      "\u001b[32m✔\u001b[39m \u001b[34minfer       \u001b[39m 1.0.5     \u001b[32m✔\u001b[39m \u001b[34mworkflows   \u001b[39m 1.1.3\n",
      "\u001b[32m✔\u001b[39m \u001b[34mmodeldata   \u001b[39m 1.2.0     \u001b[32m✔\u001b[39m \u001b[34mworkflowsets\u001b[39m 1.0.1\n",
      "\u001b[32m✔\u001b[39m \u001b[34mparsnip     \u001b[39m 1.1.1     \u001b[32m✔\u001b[39m \u001b[34myardstick   \u001b[39m 1.2.0\n",
      "\u001b[32m✔\u001b[39m \u001b[34mrecipes     \u001b[39m 1.0.8     \n",
      "\n",
      "── \u001b[1mConflicts\u001b[22m ───────────────────────────────────────── tidymodels_conflicts() ──\n",
      "\u001b[31m✖\u001b[39m \u001b[34mscales\u001b[39m::\u001b[32mdiscard()\u001b[39m masks \u001b[34mpurrr\u001b[39m::discard()\n",
      "\u001b[31m✖\u001b[39m \u001b[34mdplyr\u001b[39m::\u001b[32mfilter()\u001b[39m   masks \u001b[34mstats\u001b[39m::filter()\n",
      "\u001b[31m✖\u001b[39m \u001b[34mrecipes\u001b[39m::\u001b[32mfixed()\u001b[39m  masks \u001b[34mstringr\u001b[39m::fixed()\n",
      "\u001b[31m✖\u001b[39m \u001b[34mdplyr\u001b[39m::\u001b[32mlag()\u001b[39m      masks \u001b[34mstats\u001b[39m::lag()\n",
      "\u001b[31m✖\u001b[39m \u001b[34myardstick\u001b[39m::\u001b[32mspec()\u001b[39m masks \u001b[34mreadr\u001b[39m::spec()\n",
      "\u001b[31m✖\u001b[39m \u001b[34mrecipes\u001b[39m::\u001b[32mstep()\u001b[39m   masks \u001b[34mstats\u001b[39m::step()\n",
      "\u001b[34m•\u001b[39m Learn how to get started at \u001b[32mhttps://www.tidymodels.org/start/\u001b[39m\n",
      "\n"
     ]
    }
   ],
   "source": [
    "library(tidyverse)\n",
    "library(repr)\n",
    "library(tidymodels)\n",
    "library(RColorBrewer)\n",
    "options(repr.matrix.max.rows = 6)\n",
    "set.seed(17)"
   ]
  },
  {
   "cell_type": "code",
   "execution_count": 5,
   "id": "1ac7fb94-3577-4826-ba0e-0331b823c4b4",
   "metadata": {},
   "outputs": [
    {
     "name": "stderr",
     "output_type": "stream",
     "text": [
      "Warning message:\n",
      "“\u001b[1m\u001b[22mThere was 1 warning in `mutate()`.\n",
      "\u001b[1m\u001b[22m\u001b[36mℹ\u001b[39m In argument: `trestbps = as.numeric(trestbps)`.\n",
      "Caused by warning:\n",
      "\u001b[33m!\u001b[39m NAs introduced by coercion”\n",
      "Warning message:\n",
      "“\u001b[1m\u001b[22mThere was 1 warning in `mutate()`.\n",
      "\u001b[1m\u001b[22m\u001b[36mℹ\u001b[39m In argument: `chol = as.numeric(chol)`.\n",
      "Caused by warning:\n",
      "\u001b[33m!\u001b[39m NAs introduced by coercion”\n",
      "Warning message:\n",
      "“\u001b[1m\u001b[22mThere was 1 warning in `mutate()`.\n",
      "\u001b[1m\u001b[22m\u001b[36mℹ\u001b[39m In argument: `thalach = as.numeric(thalach)`.\n",
      "Caused by warning:\n",
      "\u001b[33m!\u001b[39m NAs introduced by coercion”\n",
      "\u001b[1m\u001b[22m`summarise()` has grouped output by 'diagnosis'. You can override using the\n",
      "`.groups` argument.\n"
     ]
    },
    {
     "data": {
      "text/html": [
       "<table class=\"dataframe\">\n",
       "<caption>A grouped_df: 4 × 5</caption>\n",
       "<thead>\n",
       "\t<tr><th scope=col>diagnosis</th><th scope=col>sex</th><th scope=col>mean_age</th><th scope=col>mean_chol</th><th scope=col>count</th></tr>\n",
       "\t<tr><th scope=col>&lt;fct&gt;</th><th scope=col>&lt;fct&gt;</th><th scope=col>&lt;dbl&gt;</th><th scope=col>&lt;dbl&gt;</th><th scope=col>&lt;int&gt;</th></tr>\n",
       "</thead>\n",
       "<tbody>\n",
       "\t<tr><td>Healthy</td><td>male  </td><td>47.75556</td><td>242.0988</td><td>90</td></tr>\n",
       "\t<tr><td>Healthy</td><td>female</td><td>47.13725</td><td>245.0000</td><td>51</td></tr>\n",
       "\t<tr><td>Sick   </td><td>male  </td><td>49.27778</td><td>264.1176</td><td>72</td></tr>\n",
       "\t<tr><td>Sick   </td><td>female</td><td>49.14286</td><td>266.2857</td><td> 7</td></tr>\n",
       "</tbody>\n",
       "</table>\n"
      ],
      "text/latex": [
       "A grouped\\_df: 4 × 5\n",
       "\\begin{tabular}{lllll}\n",
       " diagnosis & sex & mean\\_age & mean\\_chol & count\\\\\n",
       " <fct> & <fct> & <dbl> & <dbl> & <int>\\\\\n",
       "\\hline\n",
       "\t Healthy & male   & 47.75556 & 242.0988 & 90\\\\\n",
       "\t Healthy & female & 47.13725 & 245.0000 & 51\\\\\n",
       "\t Sick    & male   & 49.27778 & 264.1176 & 72\\\\\n",
       "\t Sick    & female & 49.14286 & 266.2857 &  7\\\\\n",
       "\\end{tabular}\n"
      ],
      "text/markdown": [
       "\n",
       "A grouped_df: 4 × 5\n",
       "\n",
       "| diagnosis &lt;fct&gt; | sex &lt;fct&gt; | mean_age &lt;dbl&gt; | mean_chol &lt;dbl&gt; | count &lt;int&gt; |\n",
       "|---|---|---|---|---|\n",
       "| Healthy | male   | 47.75556 | 242.0988 | 90 |\n",
       "| Healthy | female | 47.13725 | 245.0000 | 51 |\n",
       "| Sick    | male   | 49.27778 | 264.1176 | 72 |\n",
       "| Sick    | female | 49.14286 | 266.2857 |  7 |\n",
       "\n"
      ],
      "text/plain": [
       "  diagnosis sex    mean_age mean_chol count\n",
       "1 Healthy   male   47.75556 242.0988  90   \n",
       "2 Healthy   female 47.13725 245.0000  51   \n",
       "3 Sick      male   49.27778 264.1176  72   \n",
       "4 Sick      female 49.14286 266.2857   7   "
      ]
     },
     "metadata": {},
     "output_type": "display_data"
    }
   ],
   "source": [
    "#copying the code from the proposal over\n",
    "\n",
    "url <- \"https://raw.githubusercontent.com/ANGUO17/dsci-100-2023w2-group-06/main/heart%2Bdisease/reprocessed.hungarian.data\"\n",
    "\n",
    "data <- read.table(url) \n",
    "\n",
    "data <- data.frame(lapply(data, function(x) gsub(\"-9\", \"NA\", x)))\n",
    "           \n",
    "colnames(data) <- c(\"age\", \"sex\", \"cp\", \"trestbps\", \"chol\" , \"fbs\", \n",
    "                    \"restecg\", \"thalach\", \"exang\", \"oldpeak\", \"slope\", \"ca\",\n",
    "                    \"thal\", \"num\")\n",
    "\n",
    "data_processed <- data |>\n",
    "    mutate(age = as.numeric(age)) |>\n",
    "    mutate(trestbps = as.numeric(trestbps)) |>\n",
    "    mutate(chol = as.numeric(chol)) |>\n",
    "    mutate(thalach = as.numeric(thalach)) |>\n",
    "    mutate(sex = as_factor(sex)) |>\n",
    "    mutate(sex = fct_recode(sex, \"male\" = \"1\", \"female\" = \"0\")) |>\n",
    "    mutate(cp = as_factor(cp)) |>\n",
    "    mutate(cp = fct_recode(cp, \"typical angina\" = \"1\", \"atypical angina\" = \"2\", \n",
    "                                        \"non-anginal pain\" = \"3\" , \"asymptomatic\" = \"4\" )) |>\n",
    "    mutate(fbs = as_factor(fbs)) |>\n",
    "    mutate(fbs = fct_recode(fbs, \"true\" = \"1\", \"false\" = \"0\" )) |>\n",
    "    mutate(restecg = as_factor(restecg)) |>\n",
    "    mutate(restecg = fct_recode(restecg, \"normal\" = \"0\", \"abnormal\" = \"1\" )) |>\n",
    "    mutate(exang = as_factor(exang)) |>\n",
    "    mutate(exang = fct_recode(exang, \"yes\" = \"1\", \"no\" = \"0\" )) |>\n",
    "    mutate(slope = as_factor(slope)) |>\n",
    "    mutate(slope = fct_recode(slope, \"upsloping\" = \"1\", \"flat\" = \"2\", \"downsloping\" = \"3\")) |>\n",
    "    mutate(thal = as_factor(thal)) |>\n",
    "    mutate(thal = fct_recode(thal, \"normal\" = \"3\", \"fixed defect\" = \"6\", \"reversable defect\" = \"7\" )) |>\n",
    "    mutate(diagnosis = as_factor(num)) |>\n",
    "    mutate(diagnosis = fct_recode(diagnosis, \"Sick\" = \"1\",\"Sick\" = \"2\" ,\"Sick\" = \"3\",\"Sick\" = \"4\", \"Healthy\" = \"0\" )) |>\n",
    "\n",
    "    select(age, sex, chol, diagnosis)\n",
    "\n",
    "data_split <- initial_split(data_processed, prop = 0.75, strata = diagnosis)  \n",
    "\n",
    "data_training <- training(data_split)\n",
    "\n",
    "data_testing <- testing(data_split)\n",
    "\n",
    "data_summarized <- data_training |>\n",
    "    group_by(diagnosis, sex) |>\n",
    "    summarize(mean_age = mean(age, na.rm = TRUE),\n",
    "              mean_chol = mean(chol, na.rm = TRUE),\n",
    "              count = n())\n",
    "\n",
    "data_summarized\n",
    "\n",
    "plot_age_vs_chol <- data_training|> ggplot(aes(x = age, y = chol, color = diagnosis)) + \n",
    "    geom_point() + facet_grid(cols = vars(sex)) + labs(x = \"Age (years)\", y = \"Serum Cholesterol in mg/dl\", color = \"Diagnosis\")\n"
   ]
  },
  {
   "cell_type": "code",
   "execution_count": null,
   "id": "ba033e41-51f1-4cde-97b6-4456845a8af4",
   "metadata": {},
   "outputs": [],
   "source": []
  },
  {
   "cell_type": "code",
   "execution_count": null,
   "id": "fa2a8156-8aa5-4153-abbb-46976994970f",
   "metadata": {},
   "outputs": [],
   "source": []
  },
  {
   "cell_type": "markdown",
   "id": "fcc98818-c43c-4563-b31c-f8d8d19b6618",
   "metadata": {},
   "source": [
    "Each report should include the following sections:\n",
    "\n",
    "Title\n",
    "\n",
    "Introduction:\n",
    "provide some relevant background information on the topic so that someone unfamiliar with it will be prepared to understand the rest of your report\n",
    "clearly state the question you tried to answer with your project\n",
    "identify and describe the dataset that was used to answer the question\n",
    "\n",
    "Methods & Results:\n",
    "describe in written English the methods you used to perform your analysis from beginning to end that narrates the code the does the analysis.\n",
    "your report should include code which:\n",
    "loads data from the original source on the web \n",
    "wrangles and cleans the data from it's original (downloaded) format to the format necessary for the planned analysis\n",
    "performs a summary of the data set that is relevant for exploratory data analysis related to the planned analysis \n",
    "creates a visualization of the dataset that is relevant for exploratory data analysis related to the planned analysis\n",
    "performs the data analysis\n",
    "creates a visualization of the analysis \n",
    "note: all tables and figure should have a figure/table number and a legend\n",
    "\n",
    "Discussion:\n",
    "summarize what you found\n",
    "discuss whether this is what you expected to find?\n",
    "discuss what impact could such findings have?\n",
    "discuss what future questions could this lead to?\n",
    "\n",
    "References\n",
    "At least 2 citations of literature relevant to the project (format is your choice, just be consistent across the references).\n",
    "Make sure to cite the source of your data as well.\n",
    "hint - you can use your proposal as a basis for your final report"
   ]
  },
  {
   "cell_type": "code",
   "execution_count": null,
   "id": "59cee38f-e580-4089-a5f4-1a5146e64b48",
   "metadata": {},
   "outputs": [],
   "source": []
  }
 ],
 "metadata": {
  "kernelspec": {
   "display_name": "R",
   "language": "R",
   "name": "ir"
  },
  "language_info": {
   "codemirror_mode": "r",
   "file_extension": ".r",
   "mimetype": "text/x-r-source",
   "name": "R",
   "pygments_lexer": "r",
   "version": "4.3.1"
  }
 },
 "nbformat": 4,
 "nbformat_minor": 5
}
