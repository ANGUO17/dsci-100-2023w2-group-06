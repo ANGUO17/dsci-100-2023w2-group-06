{
 "cells": [
  {
   "cell_type": "markdown",
   "id": "d9b021cc-d5a0-4a95-ad8e-ea3d2fdf8174",
   "metadata": {},
   "source": [
    "## Group Project Report"
   ]
  },
  {
   "cell_type": "code",
   "execution_count": null,
   "id": "6abef307-211e-40b3-bbca-a744da308342",
   "metadata": {},
   "outputs": [],
   "source": []
  }
 ],
 "metadata": {
  "kernelspec": {
   "display_name": "R",
   "language": "R",
   "name": "ir"
  },
  "language_info": {
   "codemirror_mode": "r",
   "file_extension": ".r",
   "mimetype": "text/x-r-source",
   "name": "R",
   "pygments_lexer": "r",
   "version": "4.3.1"
  }
 },
 "nbformat": 4,
 "nbformat_minor": 5
}
